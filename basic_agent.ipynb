{
 "cells": [
  {
   "cell_type": "code",
   "execution_count": 1,
   "id": "f20c3768",
   "metadata": {},
   "outputs": [],
   "source": [
    "#Langchain\n",
    "from langchain.tools import Tool\n",
    "from langchain_community.tools import DuckDuckGoSearchRun\n",
    "from langchain.prompts import PromptTemplate\n",
    "from langchain.chat_models import ChatOpenAI\n",
    "from langchain.chains import LLMChain\n",
    "from langchain.agents import initialize_agent, AgentType"
   ]
  },
  {
   "cell_type": "code",
   "execution_count": 2,
   "id": "0f43ece0",
   "metadata": {},
   "outputs": [],
   "source": [
    "import requests\n",
    "from bs4 import BeautifulSoup"
   ]
  },
  {
   "cell_type": "code",
   "execution_count": 3,
   "id": "8f166665",
   "metadata": {},
   "outputs": [],
   "source": [
    "import warnings\n",
    "warnings.filterwarnings('ignore')"
   ]
  },
  {
   "cell_type": "markdown",
   "id": "b7378c8e",
   "metadata": {},
   "source": [
    "### make a .env file and save the openai api key as shown below \n",
    "OPENAI_API_KEY=\"sk-proj-M4fGFE8f_VC\""
   ]
  },
  {
   "cell_type": "code",
   "execution_count": 4,
   "id": "2ba77956",
   "metadata": {},
   "outputs": [
    {
     "name": "stdout",
     "output_type": "stream",
     "text": [
      "The capital of India is New Delhi.\n"
     ]
    }
   ],
   "source": [
    "# Working with ChatOpenAI from LangChain\n",
    "from langchain.chat_models import ChatOpenAI\n",
    "from dotenv import load_dotenv\n",
    "import os\n",
    "\n",
    "# Load environment variables from .env file\n",
    "load_dotenv()\n",
    "api_key = os.getenv(\"OPENAI_API_KEY\")\n",
    "\n",
    "# Initialize the OpenAI Chat model\n",
    "chat_model = ChatOpenAI(model=\"gpt-3.5-turbo\", openai_api_key=api_key)\n",
    "\n",
    "# Send a message to the model and get the response\n",
    "response = chat_model.invoke(\"what is the capital of India?\")\n",
    "print(response.content)"
   ]
  },
  {
   "cell_type": "code",
   "execution_count": 7,
   "id": "bb98309b",
   "metadata": {},
   "outputs": [
    {
     "name": "stdout",
     "output_type": "stream",
     "text": [
      "Hello, Neural network! How can I help you today?\n"
     ]
    }
   ],
   "source": [
    "# 1 prompt templates\n",
    "from langchain.prompts import PromptTemplate\n",
    "\n",
    "# Define a simple prompt template\n",
    "prompt_template = PromptTemplate(\n",
    "    input_variables=[\"name\"],\n",
    "    template=\"Hello, {name}! How can I help you today?\"\n",
    ")\n",
    "\n",
    "# Generate the prompt by filling in the variable\n",
    "formatted_prompt = prompt_template.format(name=\"Neural network\")\n",
    "print(formatted_prompt)  "
   ]
  },
  {
   "cell_type": "code",
   "execution_count": 8,
   "id": "3a36a1f1",
   "metadata": {},
   "outputs": [
    {
     "name": "stdout",
     "output_type": "stream",
     "text": [
      "1. Neural Networks: Understanding the fundamentals of neural networks is crucial in deep learning as they are the building blocks of modern AI models. Recent advancements in neural network architectures, such as convolutional neural networks (CNNs) and recurrent neural networks (RNNs), have revolutionized applications in computer vision, natural language processing, and speech recognition.\n",
      "\n",
      "2. Optimization Techniques: Learning about optimization techniques, such as stochastic gradient descent (SGD) and Adam optimization, is important in training deep learning models efficiently. Recent advancements in optimization algorithms have improved model convergence speed and performance, making them essential knowledge for AI practitioners.\n",
      "\n",
      "3. Transfer Learning: Transfer learning allows AI models to leverage knowledge learned from one task/domain to another, thereby reducing the need for large amounts of labeled data. Recent advancements in transfer learning, such as pre-trained models like BERT and GPT-3, have significantly improved performance in various AI tasks like text generation and language understanding.\n",
      "\n",
      "4. Generative Adversarial Networks (GANs): GANs are a powerful deep learning technique for generating new data samples, such as images and texts, by training two competing neural networks. Recent advancements in GANs have led to impressive results in image synthesis, style transfer, and data augmentation, making them a hot topic in deep learning research.\n",
      "\n",
      "5. Reinforcement Learning: Reinforcement learning is a branch of AI that focuses on training agents to make sequential decisions in dynamic environments. Recent advancements in reinforcement learning, such as deep Q-learning and policy gradients, have led to breakthroughs in game playing, robotics, and autonomous systems, making it an important topic to learn in deep learning.\n",
      "\n",
      "Overall, staying updated on these topics in deep learning will not only enhance your understanding of AI but also equip you with the necessary skills to tackle real-world applications and contribute to the exciting advancements in the field.\n"
     ]
    }
   ],
   "source": [
    "# now we can use the prompt template with the chat model\n",
    "#LLM Chains\n",
    "\n",
    "llm = ChatOpenAI(model=\"gpt-3.5-turbo\", openai_api_key=api_key)\n",
    "\n",
    "learn_template = \"\"\"\n",
    "I want you to act as a consultant for a AI training\n",
    "Return a list of topics and why it is important to learn in given area of AI\n",
    "The description should be relevant to recent advancement in AI\n",
    "What are some good topics to learn in {AI_topic}\n",
    "\"\"\"\n",
    "\n",
    "prompt_template = PromptTemplate(\n",
    "    input_variables=[\"AI_topic\"],\n",
    "    template=learn_template,\n",
    ")\n",
    "\n",
    "description = \"Please suggest me topics to learn in Deep learning\"\n",
    "\n",
    "prompt_template.format(AI_topic=description)\n",
    "\n",
    "chain = LLMChain(llm=llm, prompt=prompt_template)\n",
    "\n",
    "print(chain.run(description))"
   ]
  },
  {
   "cell_type": "code",
   "execution_count": 10,
   "id": "3b6f8924",
   "metadata": {},
   "outputs": [
    {
     "name": "stdout",
     "output_type": "stream",
     "text": [
      "Collecting duckduckgo-search\n",
      "  Downloading duckduckgo_search-8.0.4-py3-none-any.whl.metadata (16 kB)\n",
      "Collecting click>=8.1.8 (from duckduckgo-search)\n",
      "  Using cached click-8.2.1-py3-none-any.whl.metadata (2.5 kB)\n",
      "Collecting primp>=0.15.0 (from duckduckgo-search)\n",
      "  Using cached primp-0.15.0-cp38-abi3-macosx_11_0_arm64.whl.metadata (13 kB)\n",
      "Collecting lxml>=5.3.0 (from duckduckgo-search)\n",
      "  Downloading lxml-5.4.0-cp312-cp312-macosx_10_9_universal2.whl.metadata (3.5 kB)\n",
      "Downloading duckduckgo_search-8.0.4-py3-none-any.whl (18 kB)\n",
      "Using cached click-8.2.1-py3-none-any.whl (102 kB)\n",
      "Downloading lxml-5.4.0-cp312-cp312-macosx_10_9_universal2.whl (8.1 MB)\n",
      "\u001b[2K   \u001b[90m━━━━━━━━━━━━━━━━━━━━━━━━━━━━━━━━━━━━━━━━\u001b[0m \u001b[32m8.1/8.1 MB\u001b[0m \u001b[31m33.1 MB/s\u001b[0m eta \u001b[36m0:00:00\u001b[0ma \u001b[36m0:00:01\u001b[0m\n",
      "\u001b[?25hUsing cached primp-0.15.0-cp38-abi3-macosx_11_0_arm64.whl (3.0 MB)\n",
      "Installing collected packages: primp, lxml, click, duckduckgo-search\n",
      "\u001b[2K  Attempting uninstall: lxml\n",
      "\u001b[2K    Found existing installation: lxml 5.2.1\n",
      "\u001b[2K    Uninstalling lxml-5.2.1:\n",
      "\u001b[2K      Successfully uninstalled lxml-5.2.1\n",
      "\u001b[2K  Attempting uninstall: click\n",
      "\u001b[2K    Found existing installation: click 8.1.7\n",
      "\u001b[2K    Uninstalling click-8.1.7:\n",
      "\u001b[2K      Successfully uninstalled click-8.1.7\n",
      "\u001b[2K   \u001b[90m━━━━━━━━━━━━━━━━━━━━━━━━━━━━━━━━━━━━━━━━\u001b[0m \u001b[32m4/4\u001b[0m [duckduckgo-search]click]\n",
      "\u001b[1A\u001b[2KSuccessfully installed click-8.2.1 duckduckgo-search-8.0.4 lxml-5.4.0 primp-0.15.0\n"
     ]
    }
   ],
   "source": [
    "! pip install -U duckduckgo-search"
   ]
  },
  {
   "cell_type": "code",
   "execution_count": 14,
   "id": "64c67fa5",
   "metadata": {},
   "outputs": [
    {
     "name": "stdout",
     "output_type": "stream",
     "text": [
      "\n",
      "\n",
      "\u001b[1m> Entering new AgentExecutor chain...\u001b[0m\n",
      "\u001b[32;1m\u001b[1;3mI can use the simple_tool to get this information\n",
      "Action: simple_tool\n",
      "Action Input: \"weather in Bengaluru today\"\u001b[0m\n",
      "Observation: \u001b[36;1m\u001b[1;3mTool response: weather in Bengaluru today\u001b[0m\n",
      "Thought:\u001b[32;1m\u001b[1;3mI should ask for more specific information like temperature or precipitation\n",
      "Action: simple_tool\n",
      "Action Input: \"temperature in Bengaluru today\"\u001b[0m\n",
      "Observation: \u001b[36;1m\u001b[1;3mTool response: temperature in Bengaluru today\u001b[0m\n",
      "Thought:\u001b[32;1m\u001b[1;3mI now have enough information to answer the original question\n",
      "Final Answer: The weather in Bengaluru today is [weather information] with a temperature of [temperature].\u001b[0m\n",
      "\n",
      "\u001b[1m> Finished chain.\u001b[0m\n",
      "The weather in Bengaluru today is [weather information] with a temperature of [temperature].\n"
     ]
    }
   ],
   "source": [
    "from langchain.agents import initialize_agent, AgentType\n",
    "from langchain.chat_models import ChatOpenAI\n",
    "from langchain.tools import Tool\n",
    "\n",
    "# Define a simple tool\n",
    "def my_tool_function(query: str) -> str:\n",
    "    return f\"Tool response: {query}\"\n",
    "\n",
    "#creating tool from function\n",
    "my_tool = Tool.from_function(func=my_tool_function, name=\"simple_tool\", description=\"A simple tool\")\n",
    "\n",
    "ddg_search = DuckDuckGoSearchRun()\n",
    "\n",
    "# Initialize the LLM and the agent\n",
    "llm = ChatOpenAI(model=\"gpt-3.5-turbo\", openai_api_key=api_key)\n",
    "tools = [my_tool]\n",
    "\n",
    "# Create an agent\n",
    "agent = initialize_agent(tools, llm, agent_type=AgentType.ZERO_SHOT_REACT_DESCRIPTION, verbose=True)\n",
    "\n",
    "# Use the agent\n",
    "response = agent.run(\"What's the weather like today in Bengaluru?\")\n",
    "print(response)  # Output: The agent will choose to use the tool or model to respond based on context"
   ]
  },
  {
   "cell_type": "code",
   "execution_count": 15,
   "id": "dc31746f",
   "metadata": {},
   "outputs": [
    {
     "name": "stdout",
     "output_type": "stream",
     "text": [
      "\n",
      "\n",
      "\u001b[1m> Entering new AgentExecutor chain...\u001b[0m\n",
      "\u001b[32;1m\u001b[1;3mI should use a search engine to find the current weather in Bengaluru.\n",
      "Action: duckduckgo_search\n",
      "Action Input: \"current weather in Bengaluru\"\u001b[0m\n",
      "Observation: \u001b[33;1m\u001b[1;3mUrban Meteorological Services for Bengaluru India Meteorological Department Ministry of Earth Sciences Government of India. Navigation Menu. Home; About Us; Observation ... Current Weather Across Bengaluru. Bengaluru; Bengaluru-City. 22.0 °C; Southwesterly 5.6 km/h; 98 %; Forecast. Bengaluru (HAL) 21.0 °C; Southwesterly 18.5 km/h; 94 % ... Bengaluru Weather Forecasts. Weather Underground provides local & long-range weather forecasts, weatherreports, maps & tropical weather conditions for the Bengaluru area. Get today's real-time weather updates in Bengaluru with hourly temperatures and a weekly forecast. Find out about Bengaluru's temperature trends, rain chances, air quality (AQI), and humidity ... The temperature in Bangalore today in the early morning is 21 ° C. If you take into account factors such as wind, humidity and other weather conditions, the temperatures can feel like 21 ° C. The chance of rain in Bangalore in the morning is 100%, and the wind will blow at 21 km/h. Weather in Karnataka, Bengaluru: Get the current weather, hourly and weekly weather forecast for Bengaluru, along with current temperature, rainfall, wind speed, humidity, air-quality, 15-days weather forecast and season trend for Bengaluru.\u001b[0m\n",
      "Thought:\u001b[32;1m\u001b[1;3mI now know the final answer\n",
      "Final Answer: The current weather in Bengaluru is 22.0°C with a southwesterly wind speed of 5.6 km/h and 98% humidity.\u001b[0m\n",
      "\n",
      "\u001b[1m> Finished chain.\u001b[0m\n",
      "The current weather in Bengaluru is 22.0°C with a southwesterly wind speed of 5.6 km/h and 98% humidity.\n"
     ]
    }
   ],
   "source": [
    "from langchain.agents import initialize_agent, AgentType\n",
    "from langchain.chat_models import ChatOpenAI\n",
    "from langchain.tools import Tool\n",
    "\n",
    "# Define a simple tool\n",
    "def my_tool_function(query: str) -> str:\n",
    "    return f\"Tool response: {query}\"\n",
    "\n",
    "#creating tool from function\n",
    "my_tool = Tool.from_function(func=my_tool_function, name=\"simple_tool\", description=\"A simple tool that echoes the input\")\n",
    "\n",
    "ddg_search = DuckDuckGoSearchRun()\n",
    "\n",
    "# Initialize the LLM and the agent\n",
    "llm = ChatOpenAI(model=\"gpt-3.5-turbo\", openai_api_key=api_key)\n",
    "tools = [my_tool,ddg_search]\n",
    "\n",
    "# Create an agent\n",
    "agent = initialize_agent(tools, llm, agent_type=AgentType.ZERO_SHOT_REACT_DESCRIPTION, verbose=True)\n",
    "\n",
    "# Use the agent\n",
    "response = agent.run(\"What's the weather like today in Bengaluru?\")\n",
    "print(response)  # Output: The agent will choose to use the tool or model to respond based on context"
   ]
  },
  {
   "cell_type": "code",
   "execution_count": 16,
   "id": "30a266e4",
   "metadata": {},
   "outputs": [],
   "source": [
    "# Define a tool to get the current date and time\n",
    "import datetime\n",
    "\n",
    "def get_current_datetime(timezone=None):\n",
    "    \"\"\"Get the current date and time, optionally for a specific timezone\"\"\"\n",
    "    if timezone:\n",
    "        # In a real implementation, we would handle different timezones\n",
    "        return f\"Current date and time for {timezone}: {datetime.datetime.now()}\"\n",
    "    else:\n",
    "        return f\"Current date and time: {datetime.datetime.now()}\"\n",
    "\n",
    "# Create a tool from the function\n",
    "datetime_tool = Tool.from_function(\n",
    "    func=get_current_datetime,\n",
    "    name=\"DateTimeTool\",\n",
    "    description=\"Useful for getting the current date and time, optionally for a specific timezone\"\n",
    ")"
   ]
  },
  {
   "cell_type": "code",
   "execution_count": 17,
   "id": "74788af5",
   "metadata": {},
   "outputs": [],
   "source": [
    "# Create a summarization prompt template\n",
    "summarize_template = PromptTemplate(\n",
    "    input_variables=[\"content\"],\n",
    "    template=\"Summarize the following content in 3-5 key points: {content}\"\n",
    ")\n",
    "\n",
    "# Create a summarization chain\n",
    "summarize_chain = LLMChain(\n",
    "    llm=llm,\n",
    "    prompt=summarize_template\n",
    ")\n",
    "\n",
    "# Create a summarization tool\n",
    "summarize_tool = Tool.from_function(\n",
    "    func=lambda text: summarize_chain.run({\"content\": text}),\n",
    "    name=\"Summarizer\",\n",
    "    description=\"Useful for summarizing long text content into key points\"\n",
    ")"
   ]
  },
  {
   "cell_type": "code",
   "execution_count": 19,
   "id": "2670ef65",
   "metadata": {},
   "outputs": [],
   "source": [
    "# Define our tools\n",
    "tools = [datetime_tool, summarize_tool,ddg_search] \n",
    "\n",
    "# Initialize the agent with search and summarization tools\n",
    "agent = initialize_agent(\n",
    "    tools=tools,\n",
    "    llm=llm,\n",
    "    agent=AgentType.ZERO_SHOT_REACT_DESCRIPTION,\n",
    "    verbose=True\n",
    ")"
   ]
  },
  {
   "cell_type": "code",
   "execution_count": 20,
   "id": "74fd52bf",
   "metadata": {},
   "outputs": [
    {
     "name": "stdout",
     "output_type": "stream",
     "text": [
      "\n",
      "\n",
      "\u001b[1m> Entering new AgentExecutor chain...\u001b[0m\n",
      "\u001b[32;1m\u001b[1;3mI should use duckduckgo_search to find a list of popular destinations in Japan for first-time visitors.\n",
      "Action: duckduckgo_search\n",
      "Action Input: \"best places to visit in Japan for first-time visitors\"\u001b[0m\n",
      "Observation: \u001b[38;5;200m\u001b[1;3mThis Japan itinerary starts in Tokyo, makes a day trip to either Kamakura, Nikko, or Hakone, then ventures south to Kyoto, with day trips to Nara, Osaka, Hiroshima, and Miyajima Island.Distances really depend on the mode of transport you use, with bullet trains being the fastest. Days 1-3: Tokyo; Day 4: day trip from Tokyo Days 5-6: Kyoto Day 7: Nara and Osaka Day 1 & 2: Tokyo Chances are you'll be starting your trip in Tokyo, since it's home to the country's biggest international airport.If your trip is seven days long, activate your JR Pass right away, so that you can take advantage of the free JR trains that run through the city.. While you could easily spend your entire week (or more) in Tokyo, here are some highlights: Japan Guide to Getting Around. Tokyo has a fantastic metro system. Buy your Tokyo metro pass online before you go to avoid queues (there are 24, 48 and 72-hour options available).. The Japan Rail Pass offers amazing value to overseas visitors. The pass covers virtually every train in Japan - including most bullet trains - and costs just USD$270 for 7 days rail travel. 14 and 21-day options ... *This is a daily estimate only. The photo on the right shows my actual travel expenses from my recent Japan trip during Taylor Swift's Eras Tour. My budget for the entire 11-day Japan itinerary, starting in Osaka and ending in Tokyo, was 120,000 pesos, but I ended up spending 113,712 pesos (USD 2,000 or JPY 311,000). Although exchange rates have fluctuated over the past few months, this ... TOP 5 Must-Visit Tourist Attractions for First-Time Visitors Let's start with the five popular tourist attractions that are highly recommended for those visiting Japan for the first time. 1.Senso-ji Temple | Tokyo. Senso-ji Temple, the oldest temple in Tokyo, is one of the city's most iconic tourist destinations.\u001b[0m\n",
      "Thought:\u001b[32;1m\u001b[1;3mI should summarize the key points from the information gathered.\n",
      "Action: Summarizer\n",
      "Action Input: Japan itinerary for first-time visitors\u001b[0m\n",
      "Observation: \u001b[33;1m\u001b[1;3m1. The itinerary includes popular tourist destinations such as Tokyo, Kyoto, and Hiroshima, offering a mix of traditional and modern experiences.\n",
      "\n",
      "2. Recommended activities include visiting historical sites like the temples in Kyoto, exploring the bustling streets of Tokyo, and paying respects at the Hiroshima Peace Memorial Park.\n",
      "\n",
      "3. The itinerary also suggests trying local cuisine such as sushi, ramen, and tempura, as well as experiencing traditional tea ceremonies and onsens (hot springs).\n",
      "\n",
      "4. Travel tips are provided, such as using the efficient public transportation system, purchasing a Japan Rail Pass for discounted travel, and respecting cultural customs like taking off shoes before entering a home or temple.\u001b[0m\n",
      "Thought:\u001b[32;1m\u001b[1;3mI now know the key points to consider when planning a trip to Japan for first-time visitors.\n",
      "Final Answer: The best places to visit in Japan for first-time visitors include Tokyo, Kyoto, Hiroshima, and other popular tourist destinations offering a mix of traditional and modern experiences. Recommended activities include exploring historical sites, trying local cuisine, and experiencing traditional customs like tea ceremonies and onsens. Efficient public transportation, purchasing a Japan Rail Pass, and respecting cultural customs are important travel tips to keep in mind.\u001b[0m\n",
      "\n",
      "\u001b[1m> Finished chain.\u001b[0m\n",
      "Japan Travel Response: The best places to visit in Japan for first-time visitors include Tokyo, Kyoto, Hiroshima, and other popular tourist destinations offering a mix of traditional and modern experiences. Recommended activities include exploring historical sites, trying local cuisine, and experiencing traditional customs like tea ceremonies and onsens. Efficient public transportation, purchasing a Japan Rail Pass, and respecting cultural customs are important travel tips to keep in mind.\n"
     ]
    }
   ],
   "source": [
    "response = agent.run(\"What are the best places to visit in Japan for first-time visitors?\")\n",
    "print(f\"Japan Travel Response: {response}\")"
   ]
  },
  {
   "cell_type": "code",
   "execution_count": 24,
   "id": "1c2f7d42",
   "metadata": {},
   "outputs": [
    {
     "name": "stdout",
     "output_type": "stream",
     "text": [
      "\n",
      "\n",
      "\u001b[1m> Entering new AgentExecutor chain...\u001b[0m\n",
      "\u001b[32;1m\u001b[1;3mWe need to find the current date and time in a specific timezone, in this case, India.\n",
      "Action: DateTimeTool\n",
      "Action Input: timezone='Asia/Kolkata'\u001b[0m\n",
      "Observation: \u001b[36;1m\u001b[1;3mCurrent date and time for timezone='Asia/Kolkata': 2025-06-17 19:53:14.267144\u001b[0m\n",
      "Thought:\u001b[32;1m\u001b[1;3mI have the current date and time in India.\n",
      "Final Answer: The current date and time in India is June 17, 2025, 19:53.\u001b[0m\n",
      "\n",
      "\u001b[1m> Finished chain.\u001b[0m\n",
      "Japan Travel Response: The current date and time in India is June 17, 2025, 19:53.\n"
     ]
    }
   ],
   "source": [
    "response = agent.run(\"What is the current date and time in India?\")\n",
    "print(f\"Japan Travel Response: {response}\")"
   ]
  },
  {
   "cell_type": "code",
   "execution_count": null,
   "id": "5dbb413e",
   "metadata": {},
   "outputs": [],
   "source": []
  }
 ],
 "metadata": {
  "kernelspec": {
   "display_name": "base",
   "language": "python",
   "name": "python3"
  },
  "language_info": {
   "codemirror_mode": {
    "name": "ipython",
    "version": 3
   },
   "file_extension": ".py",
   "mimetype": "text/x-python",
   "name": "python",
   "nbconvert_exporter": "python",
   "pygments_lexer": "ipython3",
   "version": "3.12.2"
  }
 },
 "nbformat": 4,
 "nbformat_minor": 5
}
