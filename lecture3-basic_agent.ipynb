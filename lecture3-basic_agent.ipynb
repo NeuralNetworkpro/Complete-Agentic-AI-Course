{
 "cells": [
  {
   "cell_type": "code",
   "execution_count": 2,
   "id": "c072daea",
   "metadata": {},
   "outputs": [],
   "source": [
    "#Langchain\n",
    "from langchain.tools import Tool\n",
    "from langchain_community.tools import DuckDuckGoSearchRun\n",
    "from langchain.prompts import PromptTemplate\n",
    "from langchain.chat_models import ChatOpenAI\n",
    "from langchain.chains import LLMChain\n",
    "from langchain.agents import initialize_agent, AgentType"
   ]
  },
  {
   "cell_type": "code",
   "execution_count": 3,
   "id": "a29da814",
   "metadata": {},
   "outputs": [],
   "source": [
    "import warnings\n",
    "warnings.filterwarnings('ignore')"
   ]
  },
  {
   "cell_type": "markdown",
   "id": "3320c223",
   "metadata": {},
   "source": [
    "### make a .env file and save the openai api key as shown below \n",
    "OPENAI_API_KEY=\"sk-proj-M4fGFE8f_VC\""
   ]
  },
  {
   "cell_type": "code",
   "execution_count": 4,
   "id": "88c5a4fe",
   "metadata": {},
   "outputs": [
    {
     "name": "stdout",
     "output_type": "stream",
     "text": [
      "The capital of India is New Delhi.\n"
     ]
    }
   ],
   "source": [
    "# Working with ChatOpenAI from LangChain\n",
    "from langchain.chat_models import ChatOpenAI\n",
    "from dotenv import load_dotenv\n",
    "import os\n",
    "\n",
    "# Load environment variables from .env file\n",
    "load_dotenv()\n",
    "api_key = os.getenv(\"OPENAI_API_KEY\")\n",
    "\n",
    "# Initialize the OpenAI Chat model\n",
    "chat_model = ChatOpenAI(model=\"gpt-3.5-turbo\", openai_api_key=api_key)\n",
    "\n",
    "# Send a message to the model and get the response\n",
    "response = chat_model.invoke(\"what is the capital of India?\")\n",
    "print(response.content)"
   ]
  },
  {
   "cell_type": "code",
   "execution_count": 5,
   "id": "7e9916b2",
   "metadata": {},
   "outputs": [
    {
     "name": "stdout",
     "output_type": "stream",
     "text": [
      "Hello, Neural network! How can I help you today?\n"
     ]
    }
   ],
   "source": [
    "# 1 prompt templates\n",
    "from langchain.prompts import PromptTemplate\n",
    "\n",
    "# Define a simple prompt template\n",
    "prompt_template = PromptTemplate(\n",
    "    input_variables=[\"name\"],\n",
    "    template=\"Hello, {name}! How can I help you today?\"\n",
    ")\n",
    "\n",
    "# Generate the prompt by filling in the variable\n",
    "formatted_prompt = prompt_template.format(name=\"Neural network\")\n",
    "print(formatted_prompt) "
   ]
  },
  {
   "cell_type": "code",
   "execution_count": 6,
   "id": "8b1dd934",
   "metadata": {},
   "outputs": [
    {
     "name": "stdout",
     "output_type": "stream",
     "text": [
      "1. Neural Networks: Neural networks are the building blocks of deep learning and have been instrumental in the recent advancements in AI. Understanding how neural networks work and how to optimize them is crucial for developing effective deep learning models.\n",
      "\n",
      "2. Convolutional Neural Networks (CNNs): CNNs have revolutionized image recognition and computer vision tasks. Learning how CNNs work and how to design and train them effectively is essential for anyone interested in working with image data.\n",
      "\n",
      "3. Recurrent Neural Networks (RNNs) and Long Short-Term Memory (LSTM) networks: RNNs and LSTMs are essential for working with sequential data such as time series data, text data, and speech data. Understanding how to use these types of networks can enable you to build powerful predictive models.\n",
      "\n",
      "4. Generative Adversarial Networks (GANs): GANs have gained a lot of attention in recent years for their ability to generate realistic images, videos, and text. Learning how GANs work and how to train them can open up exciting possibilities in the field of generative modeling.\n",
      "\n",
      "5. Transfer Learning: Transfer learning is a technique that leverages pre-trained models to solve new tasks with limited data. Understanding how to effectively use transfer learning can save time and resources when working on new deep learning projects.\n",
      "\n",
      "6. Reinforcement Learning: Reinforcement learning is a branch of machine learning that focuses on training agents to make sequential decisions in an environment to maximize a reward. Recent advancements in reinforcement learning have led to breakthroughs in areas such as game playing, robotics, and autonomous systems.\n",
      "\n",
      "7. Attention Mechanisms: Attention mechanisms have become increasingly popular in deep learning for tasks such as machine translation, image captioning, and speech recognition. Understanding how attention mechanisms work can help improve the performance of your deep learning models on tasks that require capturing long-range dependencies.\n",
      "\n",
      "Overall, learning these topics in deep learning can provide you with the necessary skills and knowledge to stay abreast of the latest advancements in AI and effectively apply deep learning techniques to real-world problems.\n"
     ]
    }
   ],
   "source": [
    "# now we can use the prompt template with the chat model\n",
    "#LLM Chains\n",
    "\n",
    "llm = ChatOpenAI(model=\"gpt-3.5-turbo\", openai_api_key=api_key)\n",
    "\n",
    "learn_template = \"\"\"\n",
    "I want you to act as a consultant for a AI training\n",
    "Return a list of topics and why it is important to learn in given area of AI\n",
    "The description should be relevant to recent advancement in AI\n",
    "What are some good topics to learn in {AI_topic}\n",
    "\"\"\"\n",
    "\n",
    "prompt_template = PromptTemplate(\n",
    "    input_variables=[\"AI_topic\"],\n",
    "    template=learn_template,\n",
    ")\n",
    "\n",
    "description = \"Please suggest me topics to learn in Deep learning\"\n",
    "\n",
    "prompt_template.format(AI_topic=description)\n",
    "\n",
    "chain = LLMChain(llm=llm, prompt=prompt_template)\n",
    "\n",
    "print(chain.run(description))"
   ]
  },
  {
   "cell_type": "code",
   "execution_count": 9,
   "id": "9908bab4",
   "metadata": {},
   "outputs": [
    {
     "name": "stdout",
     "output_type": "stream",
     "text": [
      "\n",
      "\n",
      "\u001b[1m> Entering new AgentExecutor chain...\u001b[0m\n",
      "\u001b[32;1m\u001b[1;3mI should use a tool to check the weather forecast for Bengaluru.\n",
      "Action: simple_tool\n",
      "Action Input: \"weather in Bengaluru today\"\u001b[0m\n",
      "Observation: \u001b[36;1m\u001b[1;3mTool response: weather in Bengaluru today\u001b[0m\n",
      "Thought:\u001b[32;1m\u001b[1;3mI should verify this information by searching on DuckDuckGo.\n",
      "Action: duckduckgo_search\n",
      "Action Input: \"weather forecast Bengaluru today\"\u001b[0m\n",
      "Observation: \u001b[33;1m\u001b[1;3mBengaluru begins the week today, June 16, with a cool, damp morning featuring patchy rain and temperatures between 19.6°C and 23.1°C. ... The weather forecast for the upcoming week shows a ... The Long-range 12 day forecast also includes detail for Bengaluru weather today. Live weather reports from Bengaluru weather stations and weather warnings that include risk of thunder, high UV index and forecast gales. See the links below the 12-day Bengaluru weather forecast table for other cities and towns nearby along with weather conditions ... The weather today in Bangalore will be hot with temperatures reaching 27 ° C.During the evening and night time the temperatures will drop to 21 ° C.. For deep dive information check out our hourly weather forecast for today down the page. Current weather in Bengaluru is 21°C. Get today's Bengaluru weather report along with accurate forecast including hourly, weekly and monthly reports at Oneindia. Weather in Karnataka, Bengaluru: Get the current weather, hourly and weekly weather forecast for Bengaluru, along with current temperature, rainfall, wind speed, humidity, air-quality, 15-days weather forecast and season trend for Bengaluru.\u001b[0m\n",
      "Thought:\u001b[32;1m\u001b[1;3mI now know the final answer.\n",
      "Final Answer: The weather in Bengaluru today is hot with temperatures reaching 27°C during the day and dropping to 21°C in the evening and night.\u001b[0m\n",
      "\n",
      "\u001b[1m> Finished chain.\u001b[0m\n",
      "The weather in Bengaluru today is hot with temperatures reaching 27°C during the day and dropping to 21°C in the evening and night.\n"
     ]
    }
   ],
   "source": [
    "from langchain.agents import initialize_agent, AgentType\n",
    "from langchain.chat_models import ChatOpenAI\n",
    "from langchain.tools import Tool\n",
    "\n",
    "# Define a simple tool\n",
    "def my_tool_function(query: str) -> str:\n",
    "    return f\"Tool response: {query}\"\n",
    "\n",
    "#creating tool from function\n",
    "my_tool = Tool.from_function(func=my_tool_function, name=\"simple_tool\", description=\"A simple tool\")\n",
    "\n",
    "ddg_search = DuckDuckGoSearchRun()\n",
    "\n",
    "# Initialize the LLM and the agent\n",
    "llm = ChatOpenAI(model=\"gpt-3.5-turbo\", openai_api_key=api_key)\n",
    "tools = [my_tool,ddg_search]\n",
    "\n",
    "# Create an agent\n",
    "agent = initialize_agent(tools, llm, agent_type=AgentType.ZERO_SHOT_REACT_DESCRIPTION, verbose=True)\n",
    "\n",
    "# Use the agent\n",
    "response = agent.run(\"What's the weather like today in Bengaluru?\")\n",
    "print(response)  # Output: The agent will choose to use the tool or model to respond based on context"
   ]
  },
  {
   "cell_type": "code",
   "execution_count": 11,
   "id": "706e5578",
   "metadata": {},
   "outputs": [],
   "source": [
    "# Define a tool to get the current date and time\n",
    "import datetime\n",
    "\n",
    "def get_current_datetime(timezone=None):\n",
    "    \"\"\"Get the current date and time, optionally for a specific timezone\"\"\"\n",
    "    if timezone:\n",
    "        # In a real implementation, we would handle different timezones\n",
    "        return f\"Current date and time for {timezone}: {datetime.datetime.now()}\"\n",
    "    else:\n",
    "        return f\"Current date and time: {datetime.datetime.now()}\"\n",
    "\n",
    "# Create a tool from the function\n",
    "datetime_tool = Tool.from_function(\n",
    "    func=get_current_datetime,\n",
    "    name=\"DateTimeTool\",\n",
    "    description=\"Useful for getting the current date and time, optionally for a specific timezone\"\n",
    ")"
   ]
  },
  {
   "cell_type": "code",
   "execution_count": 10,
   "id": "e73b6969",
   "metadata": {},
   "outputs": [],
   "source": [
    "# Create a summarization prompt template\n",
    "summarize_template = PromptTemplate(\n",
    "    input_variables=[\"content\"],\n",
    "    template=\"Summarize the following content in 3-5 key points: {content}\"\n",
    ")\n",
    "\n",
    "# Create a summarization chain\n",
    "summarize_chain = LLMChain(\n",
    "    llm=llm,\n",
    "    prompt=summarize_template\n",
    ")\n",
    "\n",
    "# Create a summarization tool\n",
    "summarize_tool = Tool.from_function(\n",
    "    func=lambda text: summarize_chain.run({\"content\": text}),\n",
    "    name=\"Summarizer\",\n",
    "    description=\"Useful for summarizing long text content into key points\"\n",
    ")"
   ]
  },
  {
   "cell_type": "code",
   "execution_count": 12,
   "id": "a6094ccd",
   "metadata": {},
   "outputs": [],
   "source": [
    "# Define our tools\n",
    "tools = [datetime_tool, summarize_tool,ddg_search] \n",
    "\n",
    "# Initialize the agent with search and summarization tools\n",
    "agent = initialize_agent(\n",
    "    tools=tools,\n",
    "    llm=llm,\n",
    "    agent=AgentType.ZERO_SHOT_REACT_DESCRIPTION,\n",
    "    verbose=True\n",
    ")"
   ]
  },
  {
   "cell_type": "code",
   "execution_count": 13,
   "id": "8fac2aa6",
   "metadata": {},
   "outputs": [
    {
     "name": "stdout",
     "output_type": "stream",
     "text": [
      "\n",
      "\n",
      "\u001b[1m> Entering new AgentExecutor chain...\u001b[0m\n",
      "\u001b[32;1m\u001b[1;3mI should use DuckDuckGo search to find a list of popular tourist destinations in Japan \n",
      "Action: duckduckgo_search\n",
      "Action Input: \"best places to visit in Japan for first-time visitors\"\u001b[0m\n",
      "Observation: \u001b[38;5;200m\u001b[1;3mThis Japan itinerary starts in Tokyo, makes a day trip to either Kamakura, Nikko, or Hakone, then ventures south to Kyoto, with day trips to Nara, Osaka, Hiroshima, and Miyajima Island.Distances really depend on the mode of transport you use, with bullet trains being the fastest. Days 1-3: Tokyo; Day 4: day trip from Tokyo Days 5-6: Kyoto Day 7: Nara and Osaka *This is a daily estimate only. The photo on the right shows my actual travel expenses from my recent Japan trip during Taylor Swift's Eras Tour. My budget for the entire 11-day Japan itinerary, starting in Osaka and ending in Tokyo, was 120,000 pesos, but I ended up spending 113,712 pesos (USD 2,000 or JPY 311,000). Although exchange rates have fluctuated over the past few months, this ... TOP 5 Must-Visit Tourist Attractions for First-Time Visitors Let's start with the five popular tourist attractions that are highly recommended for those visiting Japan for the first time. 1.Senso-ji Temple | Tokyo. Senso-ji Temple, the oldest temple in Tokyo, is one of the city's most iconic tourist destinations. 1. Introduction to Japan's Must-See Destinations Japan offers a diverse range of attractions for foreign tourists, from bustling urban landscapes to serene countryside views. Whether you're visiting for the first time or returning to explore more, knowing which destinations to prioritize can make your trip much more enjoyable. Below are some of the best spots Day 1 & 2: Tokyo Chances are you'll be starting your trip in Tokyo, since it's home to the country's biggest international airport.If your trip is seven days long, activate your JR Pass right away, so that you can take advantage of the free JR trains that run through the city.. While you could easily spend your entire week (or more) in Tokyo, here are some highlights:\u001b[0m\n",
      "Thought:\u001b[32;1m\u001b[1;3mI should summarize the key points from the search results to provide a concise answer\n",
      "Action: Summarizer\n",
      "Action Input: Japan offers a diverse range of attractions for foreign tourists, from bustling urban landscapes to serene countryside views. Senso-ji Temple in Tokyo is a must-visit, along with exploring the city of Kyoto, Nara, Osaka, Hiroshima, and Miyajima Island. \u001b[0m\n",
      "Observation: \u001b[33;1m\u001b[1;3m1. Japan offers a diverse range of attractions for foreign tourists, including bustling urban landscapes and serene countryside views.\n",
      "2. Senso-ji Temple in Tokyo is a must-visit attraction for tourists.\n",
      "3. Other recommended destinations for tourists in Japan include Kyoto, Nara, Osaka, Hiroshima, and Miyajima Island.\u001b[0m\n",
      "Thought:\u001b[32;1m\u001b[1;3mI now know the final answer\n",
      "Final Answer: Some of the best places to visit in Japan for first-time visitors include Senso-ji Temple in Tokyo, Kyoto, Nara, Osaka, Hiroshima, and Miyajima Island.\u001b[0m\n",
      "\n",
      "\u001b[1m> Finished chain.\u001b[0m\n",
      "Japan Travel Response: Some of the best places to visit in Japan for first-time visitors include Senso-ji Temple in Tokyo, Kyoto, Nara, Osaka, Hiroshima, and Miyajima Island.\n"
     ]
    }
   ],
   "source": [
    "response = agent.run(\"What are the best places to visit in Japan for first-time visitors?\")\n",
    "print(f\"Japan Travel Response: {response}\")"
   ]
  },
  {
   "cell_type": "code",
   "execution_count": null,
   "id": "d3414567",
   "metadata": {},
   "outputs": [],
   "source": []
  },
  {
   "cell_type": "code",
   "execution_count": null,
   "id": "0e455b98",
   "metadata": {},
   "outputs": [],
   "source": []
  },
  {
   "cell_type": "code",
   "execution_count": null,
   "id": "bdc62f94",
   "metadata": {},
   "outputs": [],
   "source": []
  }
 ],
 "metadata": {
  "kernelspec": {
   "display_name": "base",
   "language": "python",
   "name": "python3"
  },
  "language_info": {
   "codemirror_mode": {
    "name": "ipython",
    "version": 3
   },
   "file_extension": ".py",
   "mimetype": "text/x-python",
   "name": "python",
   "nbconvert_exporter": "python",
   "pygments_lexer": "ipython3",
   "version": "3.12.2"
  }
 },
 "nbformat": 4,
 "nbformat_minor": 5
}
