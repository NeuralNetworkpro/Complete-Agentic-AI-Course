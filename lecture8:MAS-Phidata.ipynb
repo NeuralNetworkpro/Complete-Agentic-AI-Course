{
 "cells": [
  {
   "cell_type": "markdown",
   "id": "93939c92",
   "metadata": {},
   "source": [
    "# Multi Agent System- using Phidata\n",
    "\n",
    "Investment Analysis team (4 members - 4 agents)\n",
    "\n",
    "stock - HAL\n",
    "\n",
    "- 1. market sentiment agent\n",
    "- 2. financial data agent\n",
    "- 3. financial expert agent ----> deeper perspective \n",
    "- 4. investment strategy agent --> 8/10 BUY SELL advice "
   ]
  },
  {
   "cell_type": "markdown",
   "id": "f2ea526d",
   "metadata": {},
   "source": [
    "## What is Phidata?\n",
    "- Phidata is a framework for building multi-modal agents and workflows.\n",
    "\n",
    "- Build agents with memory, knowledge, tools and reasoning.\n",
    "- Build teams of agents that can work together to solve problems.\n",
    "- Interact with your agents and workflows using a beautiful Agent UI."
   ]
  },
  {
   "cell_type": "code",
   "execution_count": null,
   "id": "2f930bea",
   "metadata": {},
   "outputs": [],
   "source": [
    "#libraries\n",
    "! pip install -U phidata\n",
    "! pip install -U yfinance\n",
    "! pip install googlesearch-python\n",
    "! pip install pycountry"
   ]
  },
  {
   "cell_type": "markdown",
   "id": "94033b73",
   "metadata": {},
   "source": [
    "# lets build \n",
    "- # Investment Analysis Multi Agent"
   ]
  },
  {
   "cell_type": "code",
   "execution_count": 25,
   "id": "ca4a3720",
   "metadata": {},
   "outputs": [],
   "source": [
    "## Libraries\n",
    "from phi.agent import Agent\n",
    "from phi.model.openai import OpenAIChat\n",
    "from phi.tools.yfinance import YFinanceTools\n",
    "from phi.tools.googlesearch import GoogleSearch"
   ]
  },
  {
   "cell_type": "code",
   "execution_count": 26,
   "id": "470f89d2",
   "metadata": {},
   "outputs": [
    {
     "data": {
      "text/plain": [
       "True"
      ]
     },
     "execution_count": 26,
     "metadata": {},
     "output_type": "execute_result"
    }
   ],
   "source": [
    "import requests\n",
    "\n",
    "import os\n",
    "\n",
    "# Load the .env file from local\n",
    "from dotenv import load_dotenv\n",
    "env_path = r'.env'\n",
    "load_dotenv(env_path)"
   ]
  },
  {
   "cell_type": "code",
   "execution_count": 27,
   "id": "9a4610be",
   "metadata": {},
   "outputs": [
    {
     "data": {
      "application/vnd.jupyter.widget-view+json": {
       "model_id": "5f20f10e67b04ca6b0e3913a1082bbcf",
       "version_major": 2,
       "version_minor": 0
      },
      "text/plain": [
       "Output()"
      ]
     },
     "metadata": {},
     "output_type": "display_data"
    },
    {
     "data": {
      "text/html": [
       "<pre style=\"white-space:pre;overflow-x:auto;line-height:normal;font-family:Menlo,'DejaVu Sans Mono',consolas,'Courier New',monospace\"><span style=\"color: #000080; text-decoration-color: #000080\">INFO    </span> Multiplying <span style=\"color: #008080; text-decoration-color: #008080; font-weight: bold\">10.0</span> and <span style=\"color: #008080; text-decoration-color: #008080; font-weight: bold\">5.0</span> to get <span style=\"color: #008080; text-decoration-color: #008080; font-weight: bold\">50.0</span>                                                                      \n",
       "</pre>\n"
      ],
      "text/plain": [
       "\u001b[34mINFO    \u001b[0m Multiplying \u001b[1;36m10.0\u001b[0m and \u001b[1;36m5.0\u001b[0m to get \u001b[1;36m50.0\u001b[0m                                                                      \n"
      ]
     },
     "metadata": {},
     "output_type": "display_data"
    },
    {
     "data": {
      "text/html": [
       "<pre style=\"white-space:pre;overflow-x:auto;line-height:normal;font-family:Menlo,'DejaVu Sans Mono',consolas,'Courier New',monospace\"><span style=\"color: #000080; text-decoration-color: #000080\">INFO    </span> Raising <span style=\"color: #008080; text-decoration-color: #008080; font-weight: bold\">50.0</span> to the power of <span style=\"color: #008080; text-decoration-color: #008080; font-weight: bold\">2.0</span> to get <span style=\"color: #008080; text-decoration-color: #008080; font-weight: bold\">2500.0</span>                                                            \n",
       "</pre>\n"
      ],
      "text/plain": [
       "\u001b[34mINFO    \u001b[0m Raising \u001b[1;36m50.0\u001b[0m to the power of \u001b[1;36m2.0\u001b[0m to get \u001b[1;36m2500.0\u001b[0m                                                            \n"
      ]
     },
     "metadata": {},
     "output_type": "display_data"
    },
    {
     "data": {
      "text/html": [
       "<pre style=\"white-space:pre;overflow-x:auto;line-height:normal;font-family:Menlo,'DejaVu Sans Mono',consolas,'Courier New',monospace\"></pre>\n"
      ],
      "text/plain": []
     },
     "metadata": {},
     "output_type": "display_data"
    }
   ],
   "source": [
    "from phi.tools.calculator import Calculator\n",
    "agent = Agent(\n",
    "    tools=[\n",
    "        Calculator(\n",
    "            add=True,\n",
    "            subtract=True,\n",
    "            multiply=True,\n",
    "            divide=True,\n",
    "            exponentiate=True,\n",
    "            factorial=True,\n",
    "            is_prime=True,\n",
    "            square_root=True,\n",
    "        )\n",
    "    ],\n",
    "    show_tool_calls=True,\n",
    "    markdown=True,\n",
    ")\n",
    "agent.print_response(\"What is 10*5 then to the power of 2, do it step by step\")"
   ]
  },
  {
   "cell_type": "code",
   "execution_count": 28,
   "id": "edc121c1",
   "metadata": {},
   "outputs": [],
   "source": [
    "# Market Sentiment Evaluator\n",
    "\n",
    "market_sentiment_bot = Agent(\n",
    "    name=\"Market Sentiment Evaluator\",\n",
    "    role=\"Analyze and interpret financial news articles\",\n",
    "    model=OpenAIChat(id=\"gpt-4o\"),\n",
    "    tools=[GoogleSearch(), YFinanceTools(company_news=True)],\n",
    "    instructions=[\n",
    "        \"Identify relevant news articles for each company and assess their sentiment critically.\",\n",
    "        \"Assign sentiment ratings from 1 (very negative) to 10 (very positive) with justification and references.\",\n",
    "        \"Provide specific sources, detailed reasoning, and relevant article links.\"\n",
    "    ],\n",
    "    show_tool_calls=True,\n",
    "    markdown=True,\n",
    ")"
   ]
  },
  {
   "cell_type": "code",
   "execution_count": 29,
   "id": "81af170f",
   "metadata": {},
   "outputs": [],
   "source": [
    "# Financial Insights Agent\n",
    "\n",
    "financial_data_bot = Agent(\n",
    "    name=\"Financial Insights Agent\",\n",
    "    role=\"Extract and analyze essential company financial data with a structured analytical approach\",\n",
    "    model=OpenAIChat(id=\"gpt-4o\"),\n",
    "    tools=[YFinanceTools(stock_price=True, company_info=True, stock_fundamentals=True, analyst_recommendations=True)],\n",
    "    instructions=[\n",
    "        \"Gather stock prices, analyst ratings, and key financial metrics.\",\n",
    "        \"Emphasize company fundamentals and trends, structuring the data in tables with meaningful insights.\"\n",
    "    ],\n",
    "    show_tool_calls=True,\n",
    "    markdown=True,\n",
    ")"
   ]
  },
  {
   "cell_type": "code",
   "execution_count": 30,
   "id": "5719c991",
   "metadata": {},
   "outputs": [],
   "source": [
    "deep_financials_bot = Agent(\n",
    "    name=\"Deep Financial Analytics Agent\",\n",
    "    role=\"Extract and analyze extensive company financial data with a structured and data-driven approach\",\n",
    "    model=OpenAIChat(id=\"gpt-4o\"),\n",
    "    tools=[YFinanceTools(company_info=True, key_financial_ratios=True, income_statements=True, historical_prices=True)],\n",
    "    instructions=[\n",
    "        \"Gather key financial ratios, income statements, balance sheets, cash flow reports, and historical price data.\",\n",
    "        \"Highlight company fundamentals and trends, structuring the data in tables with meaningful insights.\"\n",
    "    ],\n",
    "    show_tool_calls=True,\n",
    "    markdown=True,\n",
    ")"
   ]
  },
  {
   "cell_type": "code",
   "execution_count": 31,
   "id": "7bd10052",
   "metadata": {},
   "outputs": [],
   "source": [
    "investment_strategy_bot = Agent(\n",
    "    name=\"Strategic Investment Advisor\",\n",
    "    role=\"An experienced portfolio manager tasked with making data-driven investment decisions through critical evaluation.\",\n",
    "    model=OpenAIChat(id=\"gpt-4o\"),\n",
    "    instructions=[\n",
    "        \"Verify outputs for accuracy and completeness.\",\n",
    "        \"Analyze data holistically to determine a final sentiment score (1-10) with justification.\",\n",
    "        \"After careful assessment, provide a clear BUY, SELL, or HOLD recommendation for the stock.\"\n",
    "    ],\n",
    "    show_tool_calls=True,\n",
    "    markdown=True,\n",
    ")"
   ]
  },
  {
   "cell_type": "code",
   "execution_count": 37,
   "id": "99ee3c38",
   "metadata": {},
   "outputs": [],
   "source": [
    "# Unified Investment Intelligence Team\n",
    "from datetime import date\n",
    "\n",
    "today = date.today().strftime(\"%Y-%m-%d\")\n",
    "\n",
    "investment_analysis_team = Agent(\n",
    "    model=OpenAIChat(id=\"gpt-4.1-mini\"),\n",
    "    team=[market_sentiment_bot, financial_data_bot, deep_financials_bot, investment_strategy_bot],\n",
    "    instructions=[\n",
    "        \"Integrate insights from all specialized agents to deliver a comprehensive, data-backed investment analysis.\",\n",
    "        f\"Ensure all references and data points include timestamps, maintaining relevance as of {today}.\",\n",
    "        \"Structure findings in clear tables for transparency, ensuring conclusions are data-driven.\",\n",
    "        \"Explain the analytical methodology and always provide a definitive BUY, SELL, or HOLD recommendation.\"\n",
    "    ],\n",
    "    show_tool_calls=True,\n",
    "    markdown=True,\n",
    ")"
   ]
  },
  {
   "cell_type": "code",
   "execution_count": 38,
   "id": "35da7e3e",
   "metadata": {},
   "outputs": [
    {
     "data": {
      "application/vnd.jupyter.widget-view+json": {
       "model_id": "f08d3ebef4124dcf8997783ea53e094e",
       "version_major": 2,
       "version_minor": 0
      },
      "text/plain": [
       "Output()"
      ]
     },
     "metadata": {},
     "output_type": "display_data"
    },
    {
     "data": {
      "text/html": [
       "<pre style=\"white-space:pre;overflow-x:auto;line-height:normal;font-family:Menlo,'DejaVu Sans Mono',consolas,'Courier New',monospace\"><span style=\"color: #808000; text-decoration-color: #808000\">WARNING </span> Could not run function <span style=\"color: #800080; text-decoration-color: #800080; font-weight: bold\">transfer_task_to_strategic_investment_advisor</span><span style=\"font-weight: bold\">(</span><span style=\"color: #808000; text-decoration-color: #808000\">task_description</span>=<span style=\"color: #808000; text-decoration-color: #808000\">...</span>,                \n",
       "         <span style=\"color: #808000; text-decoration-color: #808000\">expected_output</span>=<span style=\"color: #808000; text-decoration-color: #808000\">...</span><span style=\"font-weight: bold\">)</span>                                                                                      \n",
       "</pre>\n"
      ],
      "text/plain": [
       "\u001b[33mWARNING \u001b[0m Could not run function \u001b[1;35mtransfer_task_to_strategic_investment_advisor\u001b[0m\u001b[1m(\u001b[0m\u001b[33mtask_description\u001b[0m=\u001b[33m...\u001b[0m,                \n",
       "         \u001b[33mexpected_output\u001b[0m=\u001b[33m...\u001b[0m\u001b[1m)\u001b[0m                                                                                      \n"
      ]
     },
     "metadata": {},
     "output_type": "display_data"
    },
    {
     "data": {
      "text/html": [
       "<pre style=\"white-space:pre;overflow-x:auto;line-height:normal;font-family:Menlo,'DejaVu Sans Mono',consolas,'Courier New',monospace\"><span style=\"color: #800000; text-decoration-color: #800000; font-weight: bold\">ERROR   </span> <span style=\"color: #008080; text-decoration-color: #008080; font-weight: bold\">1</span> validation error for Agent.get_transfer_function.<span style=\"font-weight: bold\">&lt;</span><span style=\"color: #ff00ff; text-decoration-color: #ff00ff; font-weight: bold\">locals</span><span style=\"color: #000000; text-decoration-color: #000000\">&gt;._transfer_task_to_agent</span>                       \n",
       "         <span style=\"color: #000000; text-decoration-color: #000000\">additional_information</span>                                                                                    \n",
       "         <span style=\"color: #000000; text-decoration-color: #000000\">  Missing required argument </span><span style=\"color: #000000; text-decoration-color: #000000; font-weight: bold\">[</span><span style=\"color: #808000; text-decoration-color: #808000\">type</span><span style=\"color: #000000; text-decoration-color: #000000\">=</span><span style=\"color: #800080; text-decoration-color: #800080\">missing_argument</span><span style=\"color: #000000; text-decoration-color: #000000\">, </span><span style=\"color: #808000; text-decoration-color: #808000\">input_value</span><span style=\"color: #000000; text-decoration-color: #000000\">=</span><span style=\"color: #800080; text-decoration-color: #800080; font-weight: bold\">ArgsKwargs</span><span style=\"color: #000000; text-decoration-color: #000000; font-weight: bold\">(()</span><span style=\"color: #000000; text-decoration-color: #000000\">, </span><span style=\"color: #000000; text-decoration-color: #000000; font-weight: bold\">{</span><span style=\"color: #008000; text-decoration-color: #008000\">'task_des... data and </span>    \n",
       "         <span style=\"color: #008000; text-decoration-color: #008000\">references.'</span><span style=\"color: #000000; text-decoration-color: #000000; font-weight: bold\">})</span><span style=\"color: #000000; text-decoration-color: #000000\">, </span><span style=\"color: #808000; text-decoration-color: #808000\">input_type</span><span style=\"color: #000000; text-decoration-color: #000000\">=</span><span style=\"color: #800080; text-decoration-color: #800080\">ArgsKwargs</span><span style=\"color: #000000; text-decoration-color: #000000; font-weight: bold\">]</span>                                                                    \n",
       "         <span style=\"color: #000000; text-decoration-color: #000000\">    For further information visit </span><span style=\"color: #0000ff; text-decoration-color: #0000ff; text-decoration: underline\">https://errors.pydantic.dev/2.11/v/missing_argument</span>                     \n",
       "         <span style=\"color: #000000; text-decoration-color: #000000\">Traceback </span><span style=\"color: #000000; text-decoration-color: #000000; font-weight: bold\">(</span><span style=\"color: #000000; text-decoration-color: #000000\">most recent call last</span><span style=\"color: #000000; text-decoration-color: #000000; font-weight: bold\">)</span><span style=\"color: #000000; text-decoration-color: #000000\">:</span>                                                                        \n",
       "         <span style=\"color: #000000; text-decoration-color: #000000\">  File </span><span style=\"color: #008000; text-decoration-color: #008000\">\"/opt/anaconda3/lib/python3.12/site-packages/phi/tools/function.py\"</span><span style=\"color: #000000; text-decoration-color: #000000\">, line </span><span style=\"color: #008080; text-decoration-color: #008080; font-weight: bold\">368</span><span style=\"color: #000000; text-decoration-color: #000000\">, in execute</span>          \n",
       "         <span style=\"color: #000000; text-decoration-color: #000000\">    self.result = </span><span style=\"color: #800080; text-decoration-color: #800080; font-weight: bold\">self.function.entrypoint</span><span style=\"color: #000000; text-decoration-color: #000000; font-weight: bold\">(</span><span style=\"color: #000000; text-decoration-color: #000000\">**entrypoint_args, **self.arguments</span><span style=\"color: #000000; text-decoration-color: #000000; font-weight: bold\">)</span>                           \n",
       "         <span style=\"color: #000000; text-decoration-color: #000000\">                  ^^^^^^^^^^^^^^^^^^^^^^^^^^^^^^^^^^^^^^^^^^^^^^^^^^^^^^^^^^^^^</span>                           \n",
       "         <span style=\"color: #000000; text-decoration-color: #000000\">  File </span><span style=\"color: #008000; text-decoration-color: #008000\">\"/opt/anaconda3/lib/python3.12/site-packages/pydantic/_internal/_validate_call.py\"</span><span style=\"color: #000000; text-decoration-color: #000000\">, line </span><span style=\"color: #008080; text-decoration-color: #008080; font-weight: bold\">39</span><span style=\"color: #000000; text-decoration-color: #000000\">, in </span>   \n",
       "         <span style=\"color: #000000; text-decoration-color: #000000\">wrapper_function</span>                                                                                          \n",
       "         <span style=\"color: #000000; text-decoration-color: #000000\">    return </span><span style=\"color: #800080; text-decoration-color: #800080; font-weight: bold\">wrapper</span><span style=\"color: #000000; text-decoration-color: #000000; font-weight: bold\">(</span><span style=\"color: #000000; text-decoration-color: #000000\">*args, **kwargs</span><span style=\"color: #000000; text-decoration-color: #000000; font-weight: bold\">)</span>                                                                       \n",
       "         <span style=\"color: #000000; text-decoration-color: #000000\">           ^^^^^^^^^^^^^^^^^^^^^^^^</span>                                                                       \n",
       "         <span style=\"color: #000000; text-decoration-color: #000000\">  File </span><span style=\"color: #008000; text-decoration-color: #008000\">\"/opt/anaconda3/lib/python3.12/site-packages/pydantic/_internal/_validate_call.py\"</span><span style=\"color: #000000; text-decoration-color: #000000\">, line </span><span style=\"color: #008080; text-decoration-color: #008080; font-weight: bold\">136</span><span style=\"color: #000000; text-decoration-color: #000000\">, in </span>  \n",
       "         <span style=\"color: #000000; text-decoration-color: #000000\">__call__</span>                                                                                                  \n",
       "         <span style=\"color: #000000; text-decoration-color: #000000\">    res = </span><span style=\"color: #800080; text-decoration-color: #800080; font-weight: bold\">self.__pydantic_validator__.validate_python</span><span style=\"color: #000000; text-decoration-color: #000000; font-weight: bold\">(</span><span style=\"color: #800080; text-decoration-color: #800080; font-weight: bold\">pydantic_core.ArgsKwargs</span><span style=\"color: #000000; text-decoration-color: #000000; font-weight: bold\">(</span><span style=\"color: #000000; text-decoration-color: #000000\">args, kwargs</span><span style=\"color: #000000; text-decoration-color: #000000; font-weight: bold\">))</span>             \n",
       "         <span style=\"color: #000000; text-decoration-color: #000000\">          ^^^^^^^^^^^^^^^^^^^^^^^^^^^^^^^^^^^^^^^^^^^^^^^^^^^^^^^^^^^^^^^^^^^^^^^^^^^^^^^^^^^</span>             \n",
       "         <span style=\"color: #000000; text-decoration-color: #000000\">pydantic_core._pydantic_core.ValidationError: </span><span style=\"color: #008080; text-decoration-color: #008080; font-weight: bold\">1</span><span style=\"color: #000000; text-decoration-color: #000000\"> validation error for </span>                                     \n",
       "         <span style=\"color: #000000; text-decoration-color: #000000\">Agent.get_transfer_function.&lt;locals</span><span style=\"font-weight: bold\">&gt;</span>._transfer_task_to_agent                                              \n",
       "         additional_information                                                                                    \n",
       "           Missing required argument <span style=\"font-weight: bold\">[</span><span style=\"color: #808000; text-decoration-color: #808000\">type</span>=<span style=\"color: #800080; text-decoration-color: #800080\">missing_argument</span>, <span style=\"color: #808000; text-decoration-color: #808000\">input_value</span>=<span style=\"color: #800080; text-decoration-color: #800080; font-weight: bold\">ArgsKwargs</span><span style=\"font-weight: bold\">(()</span>, <span style=\"font-weight: bold\">{</span><span style=\"color: #008000; text-decoration-color: #008000\">'task_des... data and </span>    \n",
       "         <span style=\"color: #008000; text-decoration-color: #008000\">references.'</span><span style=\"font-weight: bold\">})</span>, <span style=\"color: #808000; text-decoration-color: #808000\">input_type</span>=<span style=\"color: #800080; text-decoration-color: #800080\">ArgsKwargs</span><span style=\"font-weight: bold\">]</span>                                                                    \n",
       "             For further information visit <span style=\"color: #0000ff; text-decoration-color: #0000ff; text-decoration: underline\">https://errors.pydantic.dev/2.11/v/missing_argument</span>                     \n",
       "</pre>\n"
      ],
      "text/plain": [
       "\u001b[1;31mERROR   \u001b[0m \u001b[1;36m1\u001b[0m validation error for Agent.get_transfer_function.\u001b[1m<\u001b[0m\u001b[1;95mlocals\u001b[0m\u001b[39m>._transfer_task_to_agent\u001b[0m                       \n",
       "         \u001b[39madditional_information\u001b[0m                                                                                    \n",
       "         \u001b[39m  Missing required argument \u001b[0m\u001b[1;39m[\u001b[0m\u001b[33mtype\u001b[0m\u001b[39m=\u001b[0m\u001b[35mmissing_argument\u001b[0m\u001b[39m, \u001b[0m\u001b[33minput_value\u001b[0m\u001b[39m=\u001b[0m\u001b[1;35mArgsKwargs\u001b[0m\u001b[1;39m(\u001b[0m\u001b[1;39m(\u001b[0m\u001b[1;39m)\u001b[0m\u001b[39m, \u001b[0m\u001b[1;39m{\u001b[0m\u001b[32m'task_des... data and \u001b[0m    \n",
       "         \u001b[32mreferences.'\u001b[0m\u001b[1;39m}\u001b[0m\u001b[1;39m)\u001b[0m\u001b[39m, \u001b[0m\u001b[33minput_type\u001b[0m\u001b[39m=\u001b[0m\u001b[35mArgsKwargs\u001b[0m\u001b[1;39m]\u001b[0m                                                                    \n",
       "         \u001b[39m    For further information visit \u001b[0m\u001b[4;94mhttps://errors.pydantic.dev/2.11/v/missing_argument\u001b[0m                     \n",
       "         \u001b[39mTraceback \u001b[0m\u001b[1;39m(\u001b[0m\u001b[39mmost recent call last\u001b[0m\u001b[1;39m)\u001b[0m\u001b[39m:\u001b[0m                                                                        \n",
       "         \u001b[39m  File \u001b[0m\u001b[32m\"/opt/anaconda3/lib/python3.12/site-packages/phi/tools/function.py\"\u001b[0m\u001b[39m, line \u001b[0m\u001b[1;36m368\u001b[0m\u001b[39m, in execute\u001b[0m          \n",
       "         \u001b[39m    self.result = \u001b[0m\u001b[1;35mself.function.entrypoint\u001b[0m\u001b[1;39m(\u001b[0m\u001b[39m**entrypoint_args, **self.arguments\u001b[0m\u001b[1;39m)\u001b[0m                           \n",
       "         \u001b[39m                  ^^^^^^^^^^^^^^^^^^^^^^^^^^^^^^^^^^^^^^^^^^^^^^^^^^^^^^^^^^^^^\u001b[0m                           \n",
       "         \u001b[39m  File \u001b[0m\u001b[32m\"/opt/anaconda3/lib/python3.12/site-packages/pydantic/_internal/_validate_call.py\"\u001b[0m\u001b[39m, line \u001b[0m\u001b[1;36m39\u001b[0m\u001b[39m, in \u001b[0m   \n",
       "         \u001b[39mwrapper_function\u001b[0m                                                                                          \n",
       "         \u001b[39m    return \u001b[0m\u001b[1;35mwrapper\u001b[0m\u001b[1;39m(\u001b[0m\u001b[39m*args, **kwargs\u001b[0m\u001b[1;39m)\u001b[0m                                                                       \n",
       "         \u001b[39m           ^^^^^^^^^^^^^^^^^^^^^^^^\u001b[0m                                                                       \n",
       "         \u001b[39m  File \u001b[0m\u001b[32m\"/opt/anaconda3/lib/python3.12/site-packages/pydantic/_internal/_validate_call.py\"\u001b[0m\u001b[39m, line \u001b[0m\u001b[1;36m136\u001b[0m\u001b[39m, in \u001b[0m  \n",
       "         \u001b[39m__call__\u001b[0m                                                                                                  \n",
       "         \u001b[39m    res = \u001b[0m\u001b[1;35mself.__pydantic_validator__.validate_python\u001b[0m\u001b[1;39m(\u001b[0m\u001b[1;35mpydantic_core.ArgsKwargs\u001b[0m\u001b[1;39m(\u001b[0m\u001b[39margs, kwargs\u001b[0m\u001b[1;39m)\u001b[0m\u001b[1;39m)\u001b[0m             \n",
       "         \u001b[39m          ^^^^^^^^^^^^^^^^^^^^^^^^^^^^^^^^^^^^^^^^^^^^^^^^^^^^^^^^^^^^^^^^^^^^^^^^^^^^^^^^^^^\u001b[0m             \n",
       "         \u001b[39mpydantic_core._pydantic_core.ValidationError: \u001b[0m\u001b[1;36m1\u001b[0m\u001b[39m validation error for \u001b[0m                                     \n",
       "         \u001b[39mAgent.get_transfer_function.<locals\u001b[0m\u001b[1m>\u001b[0m._transfer_task_to_agent                                              \n",
       "         additional_information                                                                                    \n",
       "           Missing required argument \u001b[1m[\u001b[0m\u001b[33mtype\u001b[0m=\u001b[35mmissing_argument\u001b[0m, \u001b[33minput_value\u001b[0m=\u001b[1;35mArgsKwargs\u001b[0m\u001b[1m(\u001b[0m\u001b[1m(\u001b[0m\u001b[1m)\u001b[0m, \u001b[1m{\u001b[0m\u001b[32m'task_des... data and \u001b[0m    \n",
       "         \u001b[32mreferences.'\u001b[0m\u001b[1m}\u001b[0m\u001b[1m)\u001b[0m, \u001b[33minput_type\u001b[0m=\u001b[35mArgsKwargs\u001b[0m\u001b[1m]\u001b[0m                                                                    \n",
       "             For further information visit \u001b[4;94mhttps://errors.pydantic.dev/2.11/v/missing_argument\u001b[0m                     \n"
      ]
     },
     "metadata": {},
     "output_type": "display_data"
    },
    {
     "data": {
      "text/html": [
       "<pre style=\"white-space:pre;overflow-x:auto;line-height:normal;font-family:Menlo,'DejaVu Sans Mono',consolas,'Courier New',monospace\"><span style=\"color: #808000; text-decoration-color: #808000\">WARNING </span> Could not run function <span style=\"color: #800080; text-decoration-color: #800080; font-weight: bold\">transfer_task_to_strategic_investment_advisor</span><span style=\"font-weight: bold\">(</span><span style=\"color: #808000; text-decoration-color: #808000\">task_description</span>=<span style=\"color: #808000; text-decoration-color: #808000\">...</span>,                \n",
       "         <span style=\"color: #808000; text-decoration-color: #808000\">expected_output</span>=<span style=\"color: #808000; text-decoration-color: #808000\">...</span><span style=\"font-weight: bold\">)</span>                                                                                      \n",
       "</pre>\n"
      ],
      "text/plain": [
       "\u001b[33mWARNING \u001b[0m Could not run function \u001b[1;35mtransfer_task_to_strategic_investment_advisor\u001b[0m\u001b[1m(\u001b[0m\u001b[33mtask_description\u001b[0m=\u001b[33m...\u001b[0m,                \n",
       "         \u001b[33mexpected_output\u001b[0m=\u001b[33m...\u001b[0m\u001b[1m)\u001b[0m                                                                                      \n"
      ]
     },
     "metadata": {},
     "output_type": "display_data"
    },
    {
     "data": {
      "text/html": [
       "<pre style=\"white-space:pre;overflow-x:auto;line-height:normal;font-family:Menlo,'DejaVu Sans Mono',consolas,'Courier New',monospace\"><span style=\"color: #800000; text-decoration-color: #800000; font-weight: bold\">ERROR   </span> <span style=\"color: #008080; text-decoration-color: #008080; font-weight: bold\">1</span> validation error for Agent.get_transfer_function.<span style=\"font-weight: bold\">&lt;</span><span style=\"color: #ff00ff; text-decoration-color: #ff00ff; font-weight: bold\">locals</span><span style=\"color: #000000; text-decoration-color: #000000\">&gt;._transfer_task_to_agent</span>                       \n",
       "         <span style=\"color: #000000; text-decoration-color: #000000\">additional_information</span>                                                                                    \n",
       "         <span style=\"color: #000000; text-decoration-color: #000000\">  Missing required argument </span><span style=\"color: #000000; text-decoration-color: #000000; font-weight: bold\">[</span><span style=\"color: #808000; text-decoration-color: #808000\">type</span><span style=\"color: #000000; text-decoration-color: #000000\">=</span><span style=\"color: #800080; text-decoration-color: #800080\">missing_argument</span><span style=\"color: #000000; text-decoration-color: #000000\">, </span><span style=\"color: #808000; text-decoration-color: #808000\">input_value</span><span style=\"color: #000000; text-decoration-color: #000000\">=</span><span style=\"color: #800080; text-decoration-color: #800080; font-weight: bold\">ArgsKwargs</span><span style=\"color: #000000; text-decoration-color: #000000; font-weight: bold\">(()</span><span style=\"color: #000000; text-decoration-color: #000000\">, </span><span style=\"color: #000000; text-decoration-color: #000000; font-weight: bold\">{</span><span style=\"color: #008000; text-decoration-color: #008000\">'task_des...orts from </span>    \n",
       "         <span style=\"color: #008000; text-decoration-color: #008000\">March 2025.'</span><span style=\"color: #000000; text-decoration-color: #000000; font-weight: bold\">})</span><span style=\"color: #000000; text-decoration-color: #000000\">, </span><span style=\"color: #808000; text-decoration-color: #808000\">input_type</span><span style=\"color: #000000; text-decoration-color: #000000\">=</span><span style=\"color: #800080; text-decoration-color: #800080\">ArgsKwargs</span><span style=\"color: #000000; text-decoration-color: #000000; font-weight: bold\">]</span>                                                                    \n",
       "         <span style=\"color: #000000; text-decoration-color: #000000\">    For further information visit </span><span style=\"color: #0000ff; text-decoration-color: #0000ff; text-decoration: underline\">https://errors.pydantic.dev/2.11/v/missing_argument</span>                     \n",
       "         <span style=\"color: #000000; text-decoration-color: #000000\">Traceback </span><span style=\"color: #000000; text-decoration-color: #000000; font-weight: bold\">(</span><span style=\"color: #000000; text-decoration-color: #000000\">most recent call last</span><span style=\"color: #000000; text-decoration-color: #000000; font-weight: bold\">)</span><span style=\"color: #000000; text-decoration-color: #000000\">:</span>                                                                        \n",
       "         <span style=\"color: #000000; text-decoration-color: #000000\">  File </span><span style=\"color: #008000; text-decoration-color: #008000\">\"/opt/anaconda3/lib/python3.12/site-packages/phi/tools/function.py\"</span><span style=\"color: #000000; text-decoration-color: #000000\">, line </span><span style=\"color: #008080; text-decoration-color: #008080; font-weight: bold\">368</span><span style=\"color: #000000; text-decoration-color: #000000\">, in execute</span>          \n",
       "         <span style=\"color: #000000; text-decoration-color: #000000\">    self.result = </span><span style=\"color: #800080; text-decoration-color: #800080; font-weight: bold\">self.function.entrypoint</span><span style=\"color: #000000; text-decoration-color: #000000; font-weight: bold\">(</span><span style=\"color: #000000; text-decoration-color: #000000\">**entrypoint_args, **self.arguments</span><span style=\"color: #000000; text-decoration-color: #000000; font-weight: bold\">)</span>                           \n",
       "         <span style=\"color: #000000; text-decoration-color: #000000\">                  ^^^^^^^^^^^^^^^^^^^^^^^^^^^^^^^^^^^^^^^^^^^^^^^^^^^^^^^^^^^^^</span>                           \n",
       "         <span style=\"color: #000000; text-decoration-color: #000000\">  File </span><span style=\"color: #008000; text-decoration-color: #008000\">\"/opt/anaconda3/lib/python3.12/site-packages/pydantic/_internal/_validate_call.py\"</span><span style=\"color: #000000; text-decoration-color: #000000\">, line </span><span style=\"color: #008080; text-decoration-color: #008080; font-weight: bold\">39</span><span style=\"color: #000000; text-decoration-color: #000000\">, in </span>   \n",
       "         <span style=\"color: #000000; text-decoration-color: #000000\">wrapper_function</span>                                                                                          \n",
       "         <span style=\"color: #000000; text-decoration-color: #000000\">    return </span><span style=\"color: #800080; text-decoration-color: #800080; font-weight: bold\">wrapper</span><span style=\"color: #000000; text-decoration-color: #000000; font-weight: bold\">(</span><span style=\"color: #000000; text-decoration-color: #000000\">*args, **kwargs</span><span style=\"color: #000000; text-decoration-color: #000000; font-weight: bold\">)</span>                                                                       \n",
       "         <span style=\"color: #000000; text-decoration-color: #000000\">           ^^^^^^^^^^^^^^^^^^^^^^^^</span>                                                                       \n",
       "         <span style=\"color: #000000; text-decoration-color: #000000\">  File </span><span style=\"color: #008000; text-decoration-color: #008000\">\"/opt/anaconda3/lib/python3.12/site-packages/pydantic/_internal/_validate_call.py\"</span><span style=\"color: #000000; text-decoration-color: #000000\">, line </span><span style=\"color: #008080; text-decoration-color: #008080; font-weight: bold\">136</span><span style=\"color: #000000; text-decoration-color: #000000\">, in </span>  \n",
       "         <span style=\"color: #000000; text-decoration-color: #000000\">__call__</span>                                                                                                  \n",
       "         <span style=\"color: #000000; text-decoration-color: #000000\">    res = </span><span style=\"color: #800080; text-decoration-color: #800080; font-weight: bold\">self.__pydantic_validator__.validate_python</span><span style=\"color: #000000; text-decoration-color: #000000; font-weight: bold\">(</span><span style=\"color: #800080; text-decoration-color: #800080; font-weight: bold\">pydantic_core.ArgsKwargs</span><span style=\"color: #000000; text-decoration-color: #000000; font-weight: bold\">(</span><span style=\"color: #000000; text-decoration-color: #000000\">args, kwargs</span><span style=\"color: #000000; text-decoration-color: #000000; font-weight: bold\">))</span>             \n",
       "         <span style=\"color: #000000; text-decoration-color: #000000\">          ^^^^^^^^^^^^^^^^^^^^^^^^^^^^^^^^^^^^^^^^^^^^^^^^^^^^^^^^^^^^^^^^^^^^^^^^^^^^^^^^^^^</span>             \n",
       "         <span style=\"color: #000000; text-decoration-color: #000000\">pydantic_core._pydantic_core.ValidationError: </span><span style=\"color: #008080; text-decoration-color: #008080; font-weight: bold\">1</span><span style=\"color: #000000; text-decoration-color: #000000\"> validation error for </span>                                     \n",
       "         <span style=\"color: #000000; text-decoration-color: #000000\">Agent.get_transfer_function.&lt;locals</span><span style=\"font-weight: bold\">&gt;</span>._transfer_task_to_agent                                              \n",
       "         additional_information                                                                                    \n",
       "           Missing required argument <span style=\"font-weight: bold\">[</span><span style=\"color: #808000; text-decoration-color: #808000\">type</span>=<span style=\"color: #800080; text-decoration-color: #800080\">missing_argument</span>, <span style=\"color: #808000; text-decoration-color: #808000\">input_value</span>=<span style=\"color: #800080; text-decoration-color: #800080; font-weight: bold\">ArgsKwargs</span><span style=\"font-weight: bold\">(()</span>, <span style=\"font-weight: bold\">{</span><span style=\"color: #008000; text-decoration-color: #008000\">'task_des...orts from </span>    \n",
       "         <span style=\"color: #008000; text-decoration-color: #008000\">March 2025.'</span><span style=\"font-weight: bold\">})</span>, <span style=\"color: #808000; text-decoration-color: #808000\">input_type</span>=<span style=\"color: #800080; text-decoration-color: #800080\">ArgsKwargs</span><span style=\"font-weight: bold\">]</span>                                                                    \n",
       "             For further information visit <span style=\"color: #0000ff; text-decoration-color: #0000ff; text-decoration: underline\">https://errors.pydantic.dev/2.11/v/missing_argument</span>                     \n",
       "</pre>\n"
      ],
      "text/plain": [
       "\u001b[1;31mERROR   \u001b[0m \u001b[1;36m1\u001b[0m validation error for Agent.get_transfer_function.\u001b[1m<\u001b[0m\u001b[1;95mlocals\u001b[0m\u001b[39m>._transfer_task_to_agent\u001b[0m                       \n",
       "         \u001b[39madditional_information\u001b[0m                                                                                    \n",
       "         \u001b[39m  Missing required argument \u001b[0m\u001b[1;39m[\u001b[0m\u001b[33mtype\u001b[0m\u001b[39m=\u001b[0m\u001b[35mmissing_argument\u001b[0m\u001b[39m, \u001b[0m\u001b[33minput_value\u001b[0m\u001b[39m=\u001b[0m\u001b[1;35mArgsKwargs\u001b[0m\u001b[1;39m(\u001b[0m\u001b[1;39m(\u001b[0m\u001b[1;39m)\u001b[0m\u001b[39m, \u001b[0m\u001b[1;39m{\u001b[0m\u001b[32m'task_des...orts from \u001b[0m    \n",
       "         \u001b[32mMarch 2025.'\u001b[0m\u001b[1;39m}\u001b[0m\u001b[1;39m)\u001b[0m\u001b[39m, \u001b[0m\u001b[33minput_type\u001b[0m\u001b[39m=\u001b[0m\u001b[35mArgsKwargs\u001b[0m\u001b[1;39m]\u001b[0m                                                                    \n",
       "         \u001b[39m    For further information visit \u001b[0m\u001b[4;94mhttps://errors.pydantic.dev/2.11/v/missing_argument\u001b[0m                     \n",
       "         \u001b[39mTraceback \u001b[0m\u001b[1;39m(\u001b[0m\u001b[39mmost recent call last\u001b[0m\u001b[1;39m)\u001b[0m\u001b[39m:\u001b[0m                                                                        \n",
       "         \u001b[39m  File \u001b[0m\u001b[32m\"/opt/anaconda3/lib/python3.12/site-packages/phi/tools/function.py\"\u001b[0m\u001b[39m, line \u001b[0m\u001b[1;36m368\u001b[0m\u001b[39m, in execute\u001b[0m          \n",
       "         \u001b[39m    self.result = \u001b[0m\u001b[1;35mself.function.entrypoint\u001b[0m\u001b[1;39m(\u001b[0m\u001b[39m**entrypoint_args, **self.arguments\u001b[0m\u001b[1;39m)\u001b[0m                           \n",
       "         \u001b[39m                  ^^^^^^^^^^^^^^^^^^^^^^^^^^^^^^^^^^^^^^^^^^^^^^^^^^^^^^^^^^^^^\u001b[0m                           \n",
       "         \u001b[39m  File \u001b[0m\u001b[32m\"/opt/anaconda3/lib/python3.12/site-packages/pydantic/_internal/_validate_call.py\"\u001b[0m\u001b[39m, line \u001b[0m\u001b[1;36m39\u001b[0m\u001b[39m, in \u001b[0m   \n",
       "         \u001b[39mwrapper_function\u001b[0m                                                                                          \n",
       "         \u001b[39m    return \u001b[0m\u001b[1;35mwrapper\u001b[0m\u001b[1;39m(\u001b[0m\u001b[39m*args, **kwargs\u001b[0m\u001b[1;39m)\u001b[0m                                                                       \n",
       "         \u001b[39m           ^^^^^^^^^^^^^^^^^^^^^^^^\u001b[0m                                                                       \n",
       "         \u001b[39m  File \u001b[0m\u001b[32m\"/opt/anaconda3/lib/python3.12/site-packages/pydantic/_internal/_validate_call.py\"\u001b[0m\u001b[39m, line \u001b[0m\u001b[1;36m136\u001b[0m\u001b[39m, in \u001b[0m  \n",
       "         \u001b[39m__call__\u001b[0m                                                                                                  \n",
       "         \u001b[39m    res = \u001b[0m\u001b[1;35mself.__pydantic_validator__.validate_python\u001b[0m\u001b[1;39m(\u001b[0m\u001b[1;35mpydantic_core.ArgsKwargs\u001b[0m\u001b[1;39m(\u001b[0m\u001b[39margs, kwargs\u001b[0m\u001b[1;39m)\u001b[0m\u001b[1;39m)\u001b[0m             \n",
       "         \u001b[39m          ^^^^^^^^^^^^^^^^^^^^^^^^^^^^^^^^^^^^^^^^^^^^^^^^^^^^^^^^^^^^^^^^^^^^^^^^^^^^^^^^^^^\u001b[0m             \n",
       "         \u001b[39mpydantic_core._pydantic_core.ValidationError: \u001b[0m\u001b[1;36m1\u001b[0m\u001b[39m validation error for \u001b[0m                                     \n",
       "         \u001b[39mAgent.get_transfer_function.<locals\u001b[0m\u001b[1m>\u001b[0m._transfer_task_to_agent                                              \n",
       "         additional_information                                                                                    \n",
       "           Missing required argument \u001b[1m[\u001b[0m\u001b[33mtype\u001b[0m=\u001b[35mmissing_argument\u001b[0m, \u001b[33minput_value\u001b[0m=\u001b[1;35mArgsKwargs\u001b[0m\u001b[1m(\u001b[0m\u001b[1m(\u001b[0m\u001b[1m)\u001b[0m, \u001b[1m{\u001b[0m\u001b[32m'task_des...orts from \u001b[0m    \n",
       "         \u001b[32mMarch 2025.'\u001b[0m\u001b[1m}\u001b[0m\u001b[1m)\u001b[0m, \u001b[33minput_type\u001b[0m=\u001b[35mArgsKwargs\u001b[0m\u001b[1m]\u001b[0m                                                                    \n",
       "             For further information visit \u001b[4;94mhttps://errors.pydantic.dev/2.11/v/missing_argument\u001b[0m                     \n"
      ]
     },
     "metadata": {},
     "output_type": "display_data"
    },
    {
     "data": {
      "text/html": [
       "<pre style=\"white-space:pre;overflow-x:auto;line-height:normal;font-family:Menlo,'DejaVu Sans Mono',consolas,'Courier New',monospace\"><span style=\"color: #808000; text-decoration-color: #808000\">WARNING </span> Could not run function <span style=\"color: #800080; text-decoration-color: #800080; font-weight: bold\">transfer_task_to_strategic_investment_advisor</span><span style=\"font-weight: bold\">(</span><span style=\"color: #808000; text-decoration-color: #808000\">task_description</span>=<span style=\"color: #808000; text-decoration-color: #808000\">...</span>,                \n",
       "         <span style=\"color: #808000; text-decoration-color: #808000\">expected_output</span>=<span style=\"color: #808000; text-decoration-color: #808000\">...</span><span style=\"font-weight: bold\">)</span>                                                                                      \n",
       "</pre>\n"
      ],
      "text/plain": [
       "\u001b[33mWARNING \u001b[0m Could not run function \u001b[1;35mtransfer_task_to_strategic_investment_advisor\u001b[0m\u001b[1m(\u001b[0m\u001b[33mtask_description\u001b[0m=\u001b[33m...\u001b[0m,                \n",
       "         \u001b[33mexpected_output\u001b[0m=\u001b[33m...\u001b[0m\u001b[1m)\u001b[0m                                                                                      \n"
      ]
     },
     "metadata": {},
     "output_type": "display_data"
    },
    {
     "data": {
      "text/html": [
       "<pre style=\"white-space:pre;overflow-x:auto;line-height:normal;font-family:Menlo,'DejaVu Sans Mono',consolas,'Courier New',monospace\"><span style=\"color: #800000; text-decoration-color: #800000; font-weight: bold\">ERROR   </span> <span style=\"color: #008080; text-decoration-color: #008080; font-weight: bold\">1</span> validation error for Agent.get_transfer_function.<span style=\"font-weight: bold\">&lt;</span><span style=\"color: #ff00ff; text-decoration-color: #ff00ff; font-weight: bold\">locals</span><span style=\"color: #000000; text-decoration-color: #000000\">&gt;._transfer_task_to_agent</span>                       \n",
       "         <span style=\"color: #000000; text-decoration-color: #000000\">additional_information</span>                                                                                    \n",
       "         <span style=\"color: #000000; text-decoration-color: #000000\">  Missing required argument </span><span style=\"color: #000000; text-decoration-color: #000000; font-weight: bold\">[</span><span style=\"color: #808000; text-decoration-color: #808000\">type</span><span style=\"color: #000000; text-decoration-color: #000000\">=</span><span style=\"color: #800080; text-decoration-color: #800080\">missing_argument</span><span style=\"color: #000000; text-decoration-color: #000000\">, </span><span style=\"color: #808000; text-decoration-color: #808000\">input_value</span><span style=\"color: #000000; text-decoration-color: #000000\">=</span><span style=\"color: #800080; text-decoration-color: #800080; font-weight: bold\">ArgsKwargs</span><span style=\"color: #000000; text-decoration-color: #000000; font-weight: bold\">(()</span><span style=\"color: #000000; text-decoration-color: #000000\">, </span><span style=\"color: #000000; text-decoration-color: #000000; font-weight: bold\">{</span><span style=\"color: #008000; text-decoration-color: #008000\">'task_des...rces from </span>    \n",
       "         <span style=\"color: #008000; text-decoration-color: #008000\">March 2025.'</span><span style=\"color: #000000; text-decoration-color: #000000; font-weight: bold\">})</span><span style=\"color: #000000; text-decoration-color: #000000\">, </span><span style=\"color: #808000; text-decoration-color: #808000\">input_type</span><span style=\"color: #000000; text-decoration-color: #000000\">=</span><span style=\"color: #800080; text-decoration-color: #800080\">ArgsKwargs</span><span style=\"color: #000000; text-decoration-color: #000000; font-weight: bold\">]</span>                                                                    \n",
       "         <span style=\"color: #000000; text-decoration-color: #000000\">    For further information visit </span><span style=\"color: #0000ff; text-decoration-color: #0000ff; text-decoration: underline\">https://errors.pydantic.dev/2.11/v/missing_argument</span>                     \n",
       "         <span style=\"color: #000000; text-decoration-color: #000000\">Traceback </span><span style=\"color: #000000; text-decoration-color: #000000; font-weight: bold\">(</span><span style=\"color: #000000; text-decoration-color: #000000\">most recent call last</span><span style=\"color: #000000; text-decoration-color: #000000; font-weight: bold\">)</span><span style=\"color: #000000; text-decoration-color: #000000\">:</span>                                                                        \n",
       "         <span style=\"color: #000000; text-decoration-color: #000000\">  File </span><span style=\"color: #008000; text-decoration-color: #008000\">\"/opt/anaconda3/lib/python3.12/site-packages/phi/tools/function.py\"</span><span style=\"color: #000000; text-decoration-color: #000000\">, line </span><span style=\"color: #008080; text-decoration-color: #008080; font-weight: bold\">368</span><span style=\"color: #000000; text-decoration-color: #000000\">, in execute</span>          \n",
       "         <span style=\"color: #000000; text-decoration-color: #000000\">    self.result = </span><span style=\"color: #800080; text-decoration-color: #800080; font-weight: bold\">self.function.entrypoint</span><span style=\"color: #000000; text-decoration-color: #000000; font-weight: bold\">(</span><span style=\"color: #000000; text-decoration-color: #000000\">**entrypoint_args, **self.arguments</span><span style=\"color: #000000; text-decoration-color: #000000; font-weight: bold\">)</span>                           \n",
       "         <span style=\"color: #000000; text-decoration-color: #000000\">                  ^^^^^^^^^^^^^^^^^^^^^^^^^^^^^^^^^^^^^^^^^^^^^^^^^^^^^^^^^^^^^</span>                           \n",
       "         <span style=\"color: #000000; text-decoration-color: #000000\">  File </span><span style=\"color: #008000; text-decoration-color: #008000\">\"/opt/anaconda3/lib/python3.12/site-packages/pydantic/_internal/_validate_call.py\"</span><span style=\"color: #000000; text-decoration-color: #000000\">, line </span><span style=\"color: #008080; text-decoration-color: #008080; font-weight: bold\">39</span><span style=\"color: #000000; text-decoration-color: #000000\">, in </span>   \n",
       "         <span style=\"color: #000000; text-decoration-color: #000000\">wrapper_function</span>                                                                                          \n",
       "         <span style=\"color: #000000; text-decoration-color: #000000\">    return </span><span style=\"color: #800080; text-decoration-color: #800080; font-weight: bold\">wrapper</span><span style=\"color: #000000; text-decoration-color: #000000; font-weight: bold\">(</span><span style=\"color: #000000; text-decoration-color: #000000\">*args, **kwargs</span><span style=\"color: #000000; text-decoration-color: #000000; font-weight: bold\">)</span>                                                                       \n",
       "         <span style=\"color: #000000; text-decoration-color: #000000\">           ^^^^^^^^^^^^^^^^^^^^^^^^</span>                                                                       \n",
       "         <span style=\"color: #000000; text-decoration-color: #000000\">  File </span><span style=\"color: #008000; text-decoration-color: #008000\">\"/opt/anaconda3/lib/python3.12/site-packages/pydantic/_internal/_validate_call.py\"</span><span style=\"color: #000000; text-decoration-color: #000000\">, line </span><span style=\"color: #008080; text-decoration-color: #008080; font-weight: bold\">136</span><span style=\"color: #000000; text-decoration-color: #000000\">, in </span>  \n",
       "         <span style=\"color: #000000; text-decoration-color: #000000\">__call__</span>                                                                                                  \n",
       "         <span style=\"color: #000000; text-decoration-color: #000000\">    res = </span><span style=\"color: #800080; text-decoration-color: #800080; font-weight: bold\">self.__pydantic_validator__.validate_python</span><span style=\"color: #000000; text-decoration-color: #000000; font-weight: bold\">(</span><span style=\"color: #800080; text-decoration-color: #800080; font-weight: bold\">pydantic_core.ArgsKwargs</span><span style=\"color: #000000; text-decoration-color: #000000; font-weight: bold\">(</span><span style=\"color: #000000; text-decoration-color: #000000\">args, kwargs</span><span style=\"color: #000000; text-decoration-color: #000000; font-weight: bold\">))</span>             \n",
       "         <span style=\"color: #000000; text-decoration-color: #000000\">          ^^^^^^^^^^^^^^^^^^^^^^^^^^^^^^^^^^^^^^^^^^^^^^^^^^^^^^^^^^^^^^^^^^^^^^^^^^^^^^^^^^^</span>             \n",
       "         <span style=\"color: #000000; text-decoration-color: #000000\">pydantic_core._pydantic_core.ValidationError: </span><span style=\"color: #008080; text-decoration-color: #008080; font-weight: bold\">1</span><span style=\"color: #000000; text-decoration-color: #000000\"> validation error for </span>                                     \n",
       "         <span style=\"color: #000000; text-decoration-color: #000000\">Agent.get_transfer_function.&lt;locals</span><span style=\"font-weight: bold\">&gt;</span>._transfer_task_to_agent                                              \n",
       "         additional_information                                                                                    \n",
       "           Missing required argument <span style=\"font-weight: bold\">[</span><span style=\"color: #808000; text-decoration-color: #808000\">type</span>=<span style=\"color: #800080; text-decoration-color: #800080\">missing_argument</span>, <span style=\"color: #808000; text-decoration-color: #808000\">input_value</span>=<span style=\"color: #800080; text-decoration-color: #800080; font-weight: bold\">ArgsKwargs</span><span style=\"font-weight: bold\">(()</span>, <span style=\"font-weight: bold\">{</span><span style=\"color: #008000; text-decoration-color: #008000\">'task_des...rces from </span>    \n",
       "         <span style=\"color: #008000; text-decoration-color: #008000\">March 2025.'</span><span style=\"font-weight: bold\">})</span>, <span style=\"color: #808000; text-decoration-color: #808000\">input_type</span>=<span style=\"color: #800080; text-decoration-color: #800080\">ArgsKwargs</span><span style=\"font-weight: bold\">]</span>                                                                    \n",
       "             For further information visit <span style=\"color: #0000ff; text-decoration-color: #0000ff; text-decoration: underline\">https://errors.pydantic.dev/2.11/v/missing_argument</span>                     \n",
       "</pre>\n"
      ],
      "text/plain": [
       "\u001b[1;31mERROR   \u001b[0m \u001b[1;36m1\u001b[0m validation error for Agent.get_transfer_function.\u001b[1m<\u001b[0m\u001b[1;95mlocals\u001b[0m\u001b[39m>._transfer_task_to_agent\u001b[0m                       \n",
       "         \u001b[39madditional_information\u001b[0m                                                                                    \n",
       "         \u001b[39m  Missing required argument \u001b[0m\u001b[1;39m[\u001b[0m\u001b[33mtype\u001b[0m\u001b[39m=\u001b[0m\u001b[35mmissing_argument\u001b[0m\u001b[39m, \u001b[0m\u001b[33minput_value\u001b[0m\u001b[39m=\u001b[0m\u001b[1;35mArgsKwargs\u001b[0m\u001b[1;39m(\u001b[0m\u001b[1;39m(\u001b[0m\u001b[1;39m)\u001b[0m\u001b[39m, \u001b[0m\u001b[1;39m{\u001b[0m\u001b[32m'task_des...rces from \u001b[0m    \n",
       "         \u001b[32mMarch 2025.'\u001b[0m\u001b[1;39m}\u001b[0m\u001b[1;39m)\u001b[0m\u001b[39m, \u001b[0m\u001b[33minput_type\u001b[0m\u001b[39m=\u001b[0m\u001b[35mArgsKwargs\u001b[0m\u001b[1;39m]\u001b[0m                                                                    \n",
       "         \u001b[39m    For further information visit \u001b[0m\u001b[4;94mhttps://errors.pydantic.dev/2.11/v/missing_argument\u001b[0m                     \n",
       "         \u001b[39mTraceback \u001b[0m\u001b[1;39m(\u001b[0m\u001b[39mmost recent call last\u001b[0m\u001b[1;39m)\u001b[0m\u001b[39m:\u001b[0m                                                                        \n",
       "         \u001b[39m  File \u001b[0m\u001b[32m\"/opt/anaconda3/lib/python3.12/site-packages/phi/tools/function.py\"\u001b[0m\u001b[39m, line \u001b[0m\u001b[1;36m368\u001b[0m\u001b[39m, in execute\u001b[0m          \n",
       "         \u001b[39m    self.result = \u001b[0m\u001b[1;35mself.function.entrypoint\u001b[0m\u001b[1;39m(\u001b[0m\u001b[39m**entrypoint_args, **self.arguments\u001b[0m\u001b[1;39m)\u001b[0m                           \n",
       "         \u001b[39m                  ^^^^^^^^^^^^^^^^^^^^^^^^^^^^^^^^^^^^^^^^^^^^^^^^^^^^^^^^^^^^^\u001b[0m                           \n",
       "         \u001b[39m  File \u001b[0m\u001b[32m\"/opt/anaconda3/lib/python3.12/site-packages/pydantic/_internal/_validate_call.py\"\u001b[0m\u001b[39m, line \u001b[0m\u001b[1;36m39\u001b[0m\u001b[39m, in \u001b[0m   \n",
       "         \u001b[39mwrapper_function\u001b[0m                                                                                          \n",
       "         \u001b[39m    return \u001b[0m\u001b[1;35mwrapper\u001b[0m\u001b[1;39m(\u001b[0m\u001b[39m*args, **kwargs\u001b[0m\u001b[1;39m)\u001b[0m                                                                       \n",
       "         \u001b[39m           ^^^^^^^^^^^^^^^^^^^^^^^^\u001b[0m                                                                       \n",
       "         \u001b[39m  File \u001b[0m\u001b[32m\"/opt/anaconda3/lib/python3.12/site-packages/pydantic/_internal/_validate_call.py\"\u001b[0m\u001b[39m, line \u001b[0m\u001b[1;36m136\u001b[0m\u001b[39m, in \u001b[0m  \n",
       "         \u001b[39m__call__\u001b[0m                                                                                                  \n",
       "         \u001b[39m    res = \u001b[0m\u001b[1;35mself.__pydantic_validator__.validate_python\u001b[0m\u001b[1;39m(\u001b[0m\u001b[1;35mpydantic_core.ArgsKwargs\u001b[0m\u001b[1;39m(\u001b[0m\u001b[39margs, kwargs\u001b[0m\u001b[1;39m)\u001b[0m\u001b[1;39m)\u001b[0m             \n",
       "         \u001b[39m          ^^^^^^^^^^^^^^^^^^^^^^^^^^^^^^^^^^^^^^^^^^^^^^^^^^^^^^^^^^^^^^^^^^^^^^^^^^^^^^^^^^^\u001b[0m             \n",
       "         \u001b[39mpydantic_core._pydantic_core.ValidationError: \u001b[0m\u001b[1;36m1\u001b[0m\u001b[39m validation error for \u001b[0m                                     \n",
       "         \u001b[39mAgent.get_transfer_function.<locals\u001b[0m\u001b[1m>\u001b[0m._transfer_task_to_agent                                              \n",
       "         additional_information                                                                                    \n",
       "           Missing required argument \u001b[1m[\u001b[0m\u001b[33mtype\u001b[0m=\u001b[35mmissing_argument\u001b[0m, \u001b[33minput_value\u001b[0m=\u001b[1;35mArgsKwargs\u001b[0m\u001b[1m(\u001b[0m\u001b[1m(\u001b[0m\u001b[1m)\u001b[0m, \u001b[1m{\u001b[0m\u001b[32m'task_des...rces from \u001b[0m    \n",
       "         \u001b[32mMarch 2025.'\u001b[0m\u001b[1m}\u001b[0m\u001b[1m)\u001b[0m, \u001b[33minput_type\u001b[0m=\u001b[35mArgsKwargs\u001b[0m\u001b[1m]\u001b[0m                                                                    \n",
       "             For further information visit \u001b[4;94mhttps://errors.pydantic.dev/2.11/v/missing_argument\u001b[0m                     \n"
      ]
     },
     "metadata": {},
     "output_type": "display_data"
    },
    {
     "data": {
      "text/html": [
       "<pre style=\"white-space:pre;overflow-x:auto;line-height:normal;font-family:Menlo,'DejaVu Sans Mono',consolas,'Courier New',monospace\"></pre>\n"
      ],
      "text/plain": []
     },
     "metadata": {},
     "output_type": "display_data"
    },
    {
     "ename": "IndexError",
     "evalue": "string index out of range",
     "output_type": "error",
     "traceback": [
      "\u001b[0;31m---------------------------------------------------------------------------\u001b[0m",
      "\u001b[0;31mIndexError\u001b[0m                                Traceback (most recent call last)",
      "Cell \u001b[0;32mIn[38], line 1\u001b[0m\n\u001b[0;32m----> 1\u001b[0m investment_analysis_team\u001b[38;5;241m.\u001b[39mprint_response(\n\u001b[1;32m      2\u001b[0m     \u001b[38;5;124m\"\u001b[39m\u001b[38;5;124mAnalyze the sentiment for the following companies for the month of March 2025 (your context is up-to-date as of march 31 2025): SBI . \u001b[39m\u001b[38;5;130;01m\\n\u001b[39;00m\u001b[38;5;130;01m\\n\u001b[39;00m\u001b[38;5;124m\"\u001b[39m\n\u001b[1;32m      3\u001b[0m     \u001b[38;5;124m\"\u001b[39m\u001b[38;5;124m1. **Sentiment Analysis**: Search for relevant news articles and interpret the sentiment for each company. Provide the sentiment score\u001b[39m\u001b[38;5;124m\"\u001b[39m\n\u001b[1;32m      4\u001b[0m     \u001b[38;5;124m\"\u001b[39m\u001b[38;5;124m2. **Financial Data**: Analyze stock price and company fundamental financial metrics and other resources. Highlight key trends\u001b[39m\u001b[38;5;124m\"\u001b[39m\n\u001b[1;32m      5\u001b[0m     \u001b[38;5;124m\"\u001b[39m\u001b[38;5;124m3. **Consolidated Analysis**: Combine the insights from the various srouces such as sentiment analysis and financial data to assign a final BUY, SELL or HOLD recommendation\u001b[39m\u001b[38;5;124m\"\u001b[39m\n\u001b[1;32m      6\u001b[0m     \u001b[38;5;124m\"\u001b[39m\u001b[38;5;124mEnsure your response is accurate, comprehensive, analytical and well-reasoned. Include references to sources with publication dates.\u001b[39m\u001b[38;5;124m\"\u001b[39m,\n\u001b[1;32m      7\u001b[0m     stream\u001b[38;5;241m=\u001b[39m\u001b[38;5;28;01mTrue\u001b[39;00m\n\u001b[1;32m      8\u001b[0m )\n",
      "File \u001b[0;32m/opt/anaconda3/lib/python3.12/site-packages/phi/agent/agent.py:2832\u001b[0m, in \u001b[0;36mAgent.print_response\u001b[0;34m(self, message, messages, stream, markdown, show_message, show_reasoning, show_full_reasoning, console, **kwargs)\u001b[0m\n\u001b[1;32m   2829\u001b[0m     \u001b[38;5;28;01mif\u001b[39;00m resp\u001b[38;5;241m.\u001b[39mextra_data \u001b[38;5;129;01mis\u001b[39;00m \u001b[38;5;129;01mnot\u001b[39;00m \u001b[38;5;28;01mNone\u001b[39;00m \u001b[38;5;129;01mand\u001b[39;00m resp\u001b[38;5;241m.\u001b[39mextra_data\u001b[38;5;241m.\u001b[39mreasoning_steps \u001b[38;5;129;01mis\u001b[39;00m \u001b[38;5;129;01mnot\u001b[39;00m \u001b[38;5;28;01mNone\u001b[39;00m:\n\u001b[1;32m   2830\u001b[0m         reasoning_steps \u001b[38;5;241m=\u001b[39m resp\u001b[38;5;241m.\u001b[39mextra_data\u001b[38;5;241m.\u001b[39mreasoning_steps\n\u001b[0;32m-> 2832\u001b[0m response_content_stream \u001b[38;5;241m=\u001b[39m Markdown(_response_content) \u001b[38;5;28;01mif\u001b[39;00m \u001b[38;5;28mself\u001b[39m\u001b[38;5;241m.\u001b[39mmarkdown \u001b[38;5;28;01melse\u001b[39;00m _response_content\n\u001b[1;32m   2834\u001b[0m panels \u001b[38;5;241m=\u001b[39m [status]\n\u001b[1;32m   2836\u001b[0m \u001b[38;5;28;01mif\u001b[39;00m message \u001b[38;5;129;01mand\u001b[39;00m show_message:\n",
      "File \u001b[0;32m/opt/anaconda3/lib/python3.12/site-packages/rich/markdown.py:551\u001b[0m, in \u001b[0;36mMarkdown.__init__\u001b[0;34m(self, markup, code_theme, justify, style, hyperlinks, inline_code_lexer, inline_code_theme)\u001b[0m\n\u001b[1;32m    549\u001b[0m parser \u001b[38;5;241m=\u001b[39m MarkdownIt()\u001b[38;5;241m.\u001b[39menable(\u001b[38;5;124m\"\u001b[39m\u001b[38;5;124mstrikethrough\u001b[39m\u001b[38;5;124m\"\u001b[39m)\u001b[38;5;241m.\u001b[39menable(\u001b[38;5;124m\"\u001b[39m\u001b[38;5;124mtable\u001b[39m\u001b[38;5;124m\"\u001b[39m)\n\u001b[1;32m    550\u001b[0m \u001b[38;5;28mself\u001b[39m\u001b[38;5;241m.\u001b[39mmarkup \u001b[38;5;241m=\u001b[39m markup\n\u001b[0;32m--> 551\u001b[0m \u001b[38;5;28mself\u001b[39m\u001b[38;5;241m.\u001b[39mparsed \u001b[38;5;241m=\u001b[39m parser\u001b[38;5;241m.\u001b[39mparse(markup)\n\u001b[1;32m    552\u001b[0m \u001b[38;5;28mself\u001b[39m\u001b[38;5;241m.\u001b[39mcode_theme \u001b[38;5;241m=\u001b[39m code_theme\n\u001b[1;32m    553\u001b[0m \u001b[38;5;28mself\u001b[39m\u001b[38;5;241m.\u001b[39mjustify: JustifyMethod \u001b[38;5;241m|\u001b[39m \u001b[38;5;28;01mNone\u001b[39;00m \u001b[38;5;241m=\u001b[39m justify\n",
      "File \u001b[0;32m/opt/anaconda3/lib/python3.12/site-packages/markdown_it/main.py:252\u001b[0m, in \u001b[0;36mMarkdownIt.parse\u001b[0;34m(self, src, env)\u001b[0m\n\u001b[1;32m    250\u001b[0m     \u001b[38;5;28;01mraise\u001b[39;00m \u001b[38;5;167;01mTypeError\u001b[39;00m(\u001b[38;5;124mf\u001b[39m\u001b[38;5;124m\"\u001b[39m\u001b[38;5;124mInput data should be a string, not \u001b[39m\u001b[38;5;132;01m{\u001b[39;00m\u001b[38;5;28mtype\u001b[39m(src)\u001b[38;5;132;01m}\u001b[39;00m\u001b[38;5;124m\"\u001b[39m)\n\u001b[1;32m    251\u001b[0m state \u001b[38;5;241m=\u001b[39m StateCore(src, \u001b[38;5;28mself\u001b[39m, env)\n\u001b[0;32m--> 252\u001b[0m \u001b[38;5;28mself\u001b[39m\u001b[38;5;241m.\u001b[39mcore\u001b[38;5;241m.\u001b[39mprocess(state)\n\u001b[1;32m    253\u001b[0m \u001b[38;5;28;01mreturn\u001b[39;00m state\u001b[38;5;241m.\u001b[39mtokens\n",
      "File \u001b[0;32m/opt/anaconda3/lib/python3.12/site-packages/markdown_it/parser_core.py:32\u001b[0m, in \u001b[0;36mParserCore.process\u001b[0;34m(self, state)\u001b[0m\n\u001b[1;32m     30\u001b[0m \u001b[38;5;250m\u001b[39m\u001b[38;5;124;03m\"\"\"Executes core chain rules.\"\"\"\u001b[39;00m\n\u001b[1;32m     31\u001b[0m \u001b[38;5;28;01mfor\u001b[39;00m rule \u001b[38;5;129;01min\u001b[39;00m \u001b[38;5;28mself\u001b[39m\u001b[38;5;241m.\u001b[39mruler\u001b[38;5;241m.\u001b[39mgetRules(\u001b[38;5;124m\"\u001b[39m\u001b[38;5;124m\"\u001b[39m):\n\u001b[0;32m---> 32\u001b[0m     rule(state)\n",
      "File \u001b[0;32m/opt/anaconda3/lib/python3.12/site-packages/markdown_it/rules_core/inline.py:10\u001b[0m, in \u001b[0;36minline\u001b[0;34m(state)\u001b[0m\n\u001b[1;32m      8\u001b[0m \u001b[38;5;28;01mif\u001b[39;00m token\u001b[38;5;241m.\u001b[39mchildren \u001b[38;5;129;01mis\u001b[39;00m \u001b[38;5;28;01mNone\u001b[39;00m:\n\u001b[1;32m      9\u001b[0m     token\u001b[38;5;241m.\u001b[39mchildren \u001b[38;5;241m=\u001b[39m []\n\u001b[0;32m---> 10\u001b[0m state\u001b[38;5;241m.\u001b[39mmd\u001b[38;5;241m.\u001b[39minline\u001b[38;5;241m.\u001b[39mparse(token\u001b[38;5;241m.\u001b[39mcontent, state\u001b[38;5;241m.\u001b[39mmd, state\u001b[38;5;241m.\u001b[39menv, token\u001b[38;5;241m.\u001b[39mchildren)\n",
      "File \u001b[0;32m/opt/anaconda3/lib/python3.12/site-packages/markdown_it/parser_inline.py:120\u001b[0m, in \u001b[0;36mParserInline.parse\u001b[0;34m(self, src, md, env, tokens)\u001b[0m\n\u001b[1;32m    118\u001b[0m \u001b[38;5;250m\u001b[39m\u001b[38;5;124;03m\"\"\"Process input string and push inline tokens into `tokens`\"\"\"\u001b[39;00m\n\u001b[1;32m    119\u001b[0m state \u001b[38;5;241m=\u001b[39m StateInline(src, md, env, tokens)\n\u001b[0;32m--> 120\u001b[0m \u001b[38;5;28mself\u001b[39m\u001b[38;5;241m.\u001b[39mtokenize(state)\n\u001b[1;32m    121\u001b[0m rules2 \u001b[38;5;241m=\u001b[39m \u001b[38;5;28mself\u001b[39m\u001b[38;5;241m.\u001b[39mruler2\u001b[38;5;241m.\u001b[39mgetRules(\u001b[38;5;124m\"\u001b[39m\u001b[38;5;124m\"\u001b[39m)\n\u001b[1;32m    122\u001b[0m \u001b[38;5;28;01mfor\u001b[39;00m rule \u001b[38;5;129;01min\u001b[39;00m rules2:\n",
      "File \u001b[0;32m/opt/anaconda3/lib/python3.12/site-packages/markdown_it/parser_inline.py:102\u001b[0m, in \u001b[0;36mParserInline.tokenize\u001b[0;34m(self, state)\u001b[0m\n\u001b[1;32m    100\u001b[0m \u001b[38;5;28;01mif\u001b[39;00m state\u001b[38;5;241m.\u001b[39mlevel \u001b[38;5;241m<\u001b[39m maxNesting:\n\u001b[1;32m    101\u001b[0m     \u001b[38;5;28;01mfor\u001b[39;00m rule \u001b[38;5;129;01min\u001b[39;00m rules:\n\u001b[0;32m--> 102\u001b[0m         ok \u001b[38;5;241m=\u001b[39m rule(state, \u001b[38;5;28;01mFalse\u001b[39;00m)\n\u001b[1;32m    103\u001b[0m         \u001b[38;5;28;01mif\u001b[39;00m ok:\n\u001b[1;32m    104\u001b[0m             \u001b[38;5;28;01mbreak\u001b[39;00m\n",
      "File \u001b[0;32m/opt/anaconda3/lib/python3.12/site-packages/markdown_it/rules_inline/link.py:53\u001b[0m, in \u001b[0;36mlink\u001b[0;34m(state, silent)\u001b[0m\n\u001b[1;32m     51\u001b[0m res \u001b[38;5;241m=\u001b[39m state\u001b[38;5;241m.\u001b[39mmd\u001b[38;5;241m.\u001b[39mhelpers\u001b[38;5;241m.\u001b[39mparseLinkDestination(state\u001b[38;5;241m.\u001b[39msrc, pos, state\u001b[38;5;241m.\u001b[39mposMax)\n\u001b[1;32m     52\u001b[0m \u001b[38;5;28;01mif\u001b[39;00m res\u001b[38;5;241m.\u001b[39mok:\n\u001b[0;32m---> 53\u001b[0m     href \u001b[38;5;241m=\u001b[39m state\u001b[38;5;241m.\u001b[39mmd\u001b[38;5;241m.\u001b[39mnormalizeLink(res\u001b[38;5;241m.\u001b[39mstr)\n\u001b[1;32m     54\u001b[0m     \u001b[38;5;28;01mif\u001b[39;00m state\u001b[38;5;241m.\u001b[39mmd\u001b[38;5;241m.\u001b[39mvalidateLink(href):\n\u001b[1;32m     55\u001b[0m         pos \u001b[38;5;241m=\u001b[39m res\u001b[38;5;241m.\u001b[39mpos\n",
      "File \u001b[0;32m/opt/anaconda3/lib/python3.12/site-packages/markdown_it/main.py:321\u001b[0m, in \u001b[0;36mMarkdownIt.normalizeLink\u001b[0;34m(self, url)\u001b[0m\n\u001b[1;32m    313\u001b[0m \u001b[38;5;28;01mdef\u001b[39;00m \u001b[38;5;21mnormalizeLink\u001b[39m(\u001b[38;5;28mself\u001b[39m, url: \u001b[38;5;28mstr\u001b[39m) \u001b[38;5;241m-\u001b[39m\u001b[38;5;241m>\u001b[39m \u001b[38;5;28mstr\u001b[39m:\n\u001b[1;32m    314\u001b[0m \u001b[38;5;250m    \u001b[39m\u001b[38;5;124;03m\"\"\"Normalize destination URLs in links\u001b[39;00m\n\u001b[1;32m    315\u001b[0m \n\u001b[1;32m    316\u001b[0m \u001b[38;5;124;03m    ::\u001b[39;00m\n\u001b[0;32m   (...)\u001b[0m\n\u001b[1;32m    319\u001b[0m \u001b[38;5;124;03m                ^^^^^^^^^^^\u001b[39;00m\n\u001b[1;32m    320\u001b[0m \u001b[38;5;124;03m    \"\"\"\u001b[39;00m\n\u001b[0;32m--> 321\u001b[0m     \u001b[38;5;28;01mreturn\u001b[39;00m normalize_url\u001b[38;5;241m.\u001b[39mnormalizeLink(url)\n",
      "File \u001b[0;32m/opt/anaconda3/lib/python3.12/site-packages/markdown_it/common/normalize_url.py:22\u001b[0m, in \u001b[0;36mnormalizeLink\u001b[0;34m(url)\u001b[0m\n\u001b[1;32m     14\u001b[0m \u001b[38;5;28;01mdef\u001b[39;00m \u001b[38;5;21mnormalizeLink\u001b[39m(url: \u001b[38;5;28mstr\u001b[39m) \u001b[38;5;241m-\u001b[39m\u001b[38;5;241m>\u001b[39m \u001b[38;5;28mstr\u001b[39m:\n\u001b[1;32m     15\u001b[0m \u001b[38;5;250m    \u001b[39m\u001b[38;5;124;03m\"\"\"Normalize destination URLs in links\u001b[39;00m\n\u001b[1;32m     16\u001b[0m \n\u001b[1;32m     17\u001b[0m \u001b[38;5;124;03m    ::\u001b[39;00m\n\u001b[0;32m   (...)\u001b[0m\n\u001b[1;32m     20\u001b[0m \u001b[38;5;124;03m                ^^^^^^^^^^^\u001b[39;00m\n\u001b[1;32m     21\u001b[0m \u001b[38;5;124;03m    \"\"\"\u001b[39;00m\n\u001b[0;32m---> 22\u001b[0m     parsed \u001b[38;5;241m=\u001b[39m mdurl\u001b[38;5;241m.\u001b[39mparse(url, slashes_denote_host\u001b[38;5;241m=\u001b[39m\u001b[38;5;28;01mTrue\u001b[39;00m)\n\u001b[1;32m     24\u001b[0m     \u001b[38;5;28;01mif\u001b[39;00m parsed\u001b[38;5;241m.\u001b[39mhostname:\n\u001b[1;32m     25\u001b[0m         \u001b[38;5;66;03m# Encode hostnames in urls like:\u001b[39;00m\n\u001b[1;32m     26\u001b[0m         \u001b[38;5;66;03m# `http://host/`, `https://host/`, `mailto:user@host`, `//host/`\u001b[39;00m\n\u001b[0;32m   (...)\u001b[0m\n\u001b[1;32m     29\u001b[0m         \u001b[38;5;66;03m# something we shouldn't (e.g. `skype:name` treated as `skype:host`)\u001b[39;00m\n\u001b[1;32m     30\u001b[0m         \u001b[38;5;66;03m#\u001b[39;00m\n\u001b[1;32m     31\u001b[0m         \u001b[38;5;28;01mif\u001b[39;00m \u001b[38;5;129;01mnot\u001b[39;00m parsed\u001b[38;5;241m.\u001b[39mprotocol \u001b[38;5;129;01mor\u001b[39;00m parsed\u001b[38;5;241m.\u001b[39mprotocol \u001b[38;5;129;01min\u001b[39;00m RECODE_HOSTNAME_FOR:\n",
      "File \u001b[0;32m/opt/anaconda3/lib/python3.12/site-packages/mdurl/_parse.py:300\u001b[0m, in \u001b[0;36murl_parse\u001b[0;34m(url, slashes_denote_host)\u001b[0m\n\u001b[1;32m    298\u001b[0m     \u001b[38;5;28;01mreturn\u001b[39;00m url\n\u001b[1;32m    299\u001b[0m u \u001b[38;5;241m=\u001b[39m MutableURL()\n\u001b[0;32m--> 300\u001b[0m u\u001b[38;5;241m.\u001b[39mparse(url, slashes_denote_host)\n\u001b[1;32m    301\u001b[0m \u001b[38;5;28;01mreturn\u001b[39;00m URL(\n\u001b[1;32m    302\u001b[0m     u\u001b[38;5;241m.\u001b[39mprotocol, u\u001b[38;5;241m.\u001b[39mslashes, u\u001b[38;5;241m.\u001b[39mauth, u\u001b[38;5;241m.\u001b[39mport, u\u001b[38;5;241m.\u001b[39mhostname, u\u001b[38;5;241m.\u001b[39mhash, u\u001b[38;5;241m.\u001b[39msearch, u\u001b[38;5;241m.\u001b[39mpathname\n\u001b[1;32m    303\u001b[0m )\n",
      "File \u001b[0;32m/opt/anaconda3/lib/python3.12/site-packages/mdurl/_parse.py:204\u001b[0m, in \u001b[0;36mMutableURL.parse\u001b[0;34m(self, url, slashes_denote_host)\u001b[0m\n\u001b[1;32m    201\u001b[0m \u001b[38;5;28;01mif\u001b[39;00m host_end \u001b[38;5;241m==\u001b[39m \u001b[38;5;241m-\u001b[39m\u001b[38;5;241m1\u001b[39m:\n\u001b[1;32m    202\u001b[0m     host_end \u001b[38;5;241m=\u001b[39m \u001b[38;5;28mlen\u001b[39m(rest)\n\u001b[0;32m--> 204\u001b[0m \u001b[38;5;28;01mif\u001b[39;00m rest[host_end \u001b[38;5;241m-\u001b[39m \u001b[38;5;241m1\u001b[39m] \u001b[38;5;241m==\u001b[39m \u001b[38;5;124m\"\u001b[39m\u001b[38;5;124m:\u001b[39m\u001b[38;5;124m\"\u001b[39m:\n\u001b[1;32m    205\u001b[0m     host_end \u001b[38;5;241m-\u001b[39m\u001b[38;5;241m=\u001b[39m \u001b[38;5;241m1\u001b[39m\n\u001b[1;32m    206\u001b[0m host \u001b[38;5;241m=\u001b[39m rest[:host_end]\n",
      "\u001b[0;31mIndexError\u001b[0m: string index out of range"
     ]
    }
   ],
   "source": [
    "investment_analysis_team.print_response(\n",
    "    \"Analyze the sentiment for the following companies for the month of March 2025 (your context is up-to-date as of march 31 2025): SBI . \\n\\n\"\n",
    "    \"1. **Sentiment Analysis**: Search for relevant news articles and interpret the sentiment for each company. Provide the sentiment score\"\n",
    "    \"2. **Financial Data**: Analyze stock price and company fundamental financial metrics and other resources. Highlight key trends\"\n",
    "    \"3. **Consolidated Analysis**: Combine the insights from the various srouces such as sentiment analysis and financial data to assign a final BUY, SELL or HOLD recommendation\"\n",
    "    \"Ensure your response is accurate, comprehensive, analytical and well-reasoned. Include references to sources with publication dates.\",\n",
    "    stream=True\n",
    ")"
   ]
  },
  {
   "cell_type": "code",
   "execution_count": null,
   "id": "40a9288e",
   "metadata": {},
   "outputs": [],
   "source": []
  },
  {
   "cell_type": "code",
   "execution_count": null,
   "id": "0fbf1e9e",
   "metadata": {},
   "outputs": [],
   "source": []
  },
  {
   "cell_type": "code",
   "execution_count": null,
   "id": "a1fcd7e3",
   "metadata": {},
   "outputs": [],
   "source": []
  },
  {
   "cell_type": "code",
   "execution_count": null,
   "id": "fb86e22e",
   "metadata": {},
   "outputs": [],
   "source": []
  },
  {
   "cell_type": "code",
   "execution_count": null,
   "id": "7f715011",
   "metadata": {},
   "outputs": [],
   "source": []
  },
  {
   "cell_type": "code",
   "execution_count": null,
   "id": "775b8522",
   "metadata": {},
   "outputs": [],
   "source": []
  },
  {
   "cell_type": "code",
   "execution_count": null,
   "id": "421aef16",
   "metadata": {},
   "outputs": [],
   "source": []
  },
  {
   "cell_type": "code",
   "execution_count": null,
   "id": "e3775340",
   "metadata": {},
   "outputs": [],
   "source": []
  },
  {
   "cell_type": "code",
   "execution_count": null,
   "id": "774f3393",
   "metadata": {},
   "outputs": [],
   "source": []
  },
  {
   "cell_type": "code",
   "execution_count": null,
   "id": "5601ac08",
   "metadata": {},
   "outputs": [],
   "source": []
  },
  {
   "cell_type": "code",
   "execution_count": null,
   "id": "40c6c128",
   "metadata": {},
   "outputs": [],
   "source": []
  },
  {
   "cell_type": "code",
   "execution_count": null,
   "id": "4b79d9f0",
   "metadata": {},
   "outputs": [],
   "source": []
  },
  {
   "cell_type": "code",
   "execution_count": null,
   "id": "ffec61ee",
   "metadata": {},
   "outputs": [],
   "source": []
  },
  {
   "cell_type": "code",
   "execution_count": null,
   "id": "47a4fb34",
   "metadata": {},
   "outputs": [],
   "source": []
  }
 ],
 "metadata": {
  "language_info": {
   "name": "python"
  }
 },
 "nbformat": 4,
 "nbformat_minor": 5
}
